{
 "cells": [
  {
   "cell_type": "markdown",
   "metadata": {},
   "source": [
    "# Improving Customer Retention: Machine Learning Model for Beta Bank "
   ]
  },
  {
   "cell_type": "markdown",
   "metadata": {},
   "source": [
    "# Project Description\n"
   ]
  },
  {
   "cell_type": "markdown",
   "metadata": {},
   "source": [
    "In this project, I will find the best model to assist Beta Bank in promoting more customer retention. Beta Bank already has a strong dataset with each observation being of one customer. The features of the dataset are all the key identifying characteristics of each customer and the target is 'Exited' - whether or not the customer has left. \n",
    "\n",
    "**In this Dataset:** <br>\n",
    "\n",
    "**Features** <br>\n",
    "\n",
    "RowNumber — data string index<br>\n",
    "CustomerId — unique customer identifier<br>\n",
    "Surname — surname<br>\n",
    "CreditScore — credit score<br>\n",
    "Geography — country of residence<br>\n",
    "Gender — gender<br>\n",
    "Age — age<br>\n",
    "Tenure — period of maturation for a customer’s fixed deposit (years)<br>\n",
    "Balance — account balance<br>\n",
    "NumOfProducts — number of banking products used by the customer<br>\n",
    "HasCrCard — customer has a credit card<br>\n",
    "IsActiveMember — customer’s activeness<br>\n",
    "EstimatedSalary — estimated salary<br>\n",
    "\n",
    "**Target**<br>\n",
    "\n",
    "Exited — сustomer has left<br>\n",
    "\n",
    "**Machine Learning Model:**\n",
    "\n",
    "I'll be testing out three models for this project: Random Forest Classifier, Decision Tree, and Logistic Regression because they are simple models that work well with classification tasks.\n",
    "\n",
    "After training each model with the behavioral data, I'll check their quality using the test dataset."
   ]
  },
  {
   "cell_type": "markdown",
   "metadata": {},
   "source": [
    "### Import Packages and load data \n"
   ]
  },
  {
   "cell_type": "code",
   "execution_count": 2,
   "metadata": {},
   "outputs": [],
   "source": [
    "import pandas as pd\n",
    "import pandas as pd\n",
    "import numpy as np\n",
    "import matplotlib.pyplot as plt\n",
    "from sklearn.model_selection import train_test_split\n",
    "from sklearn.ensemble import RandomForestClassifier\n",
    "from sklearn.linear_model import LogisticRegression\n",
    "from sklearn.tree import DecisionTreeClassifier\n",
    "from sklearn.metrics import f1_score, roc_auc_score, roc_curve, precision_score, recall_score\n",
    "from sklearn.utils import shuffle\n",
    "from sklearn.model_selection import GridSearchCV\n",
    "from sklearn.preprocessing import StandardScaler\n",
    "\n",
    "import seaborn as sns\n",
    "\n",
    "users = pd.read_csv('/datasets/Churn.csv')"
   ]
  },
  {
   "cell_type": "markdown",
   "metadata": {},
   "source": [
    "## Review Data\n",
    "\n",
    "First I'll review the data and prepare EDA "
   ]
  },
  {
   "cell_type": "code",
   "execution_count": 3,
   "metadata": {
    "scrolled": false,
    "slideshow": {
     "slide_type": "slide"
    }
   },
   "outputs": [
    {
     "data": {
      "text/html": [
       "<div>\n",
       "<style scoped>\n",
       "    .dataframe tbody tr th:only-of-type {\n",
       "        vertical-align: middle;\n",
       "    }\n",
       "\n",
       "    .dataframe tbody tr th {\n",
       "        vertical-align: top;\n",
       "    }\n",
       "\n",
       "    .dataframe thead th {\n",
       "        text-align: right;\n",
       "    }\n",
       "</style>\n",
       "<table border=\"1\" class=\"dataframe\">\n",
       "  <thead>\n",
       "    <tr style=\"text-align: right;\">\n",
       "      <th></th>\n",
       "      <th>RowNumber</th>\n",
       "      <th>CustomerId</th>\n",
       "      <th>Surname</th>\n",
       "      <th>CreditScore</th>\n",
       "      <th>Geography</th>\n",
       "      <th>Gender</th>\n",
       "      <th>Age</th>\n",
       "      <th>Tenure</th>\n",
       "      <th>Balance</th>\n",
       "      <th>NumOfProducts</th>\n",
       "      <th>HasCrCard</th>\n",
       "      <th>IsActiveMember</th>\n",
       "      <th>EstimatedSalary</th>\n",
       "      <th>Exited</th>\n",
       "    </tr>\n",
       "  </thead>\n",
       "  <tbody>\n",
       "    <tr>\n",
       "      <th>0</th>\n",
       "      <td>1</td>\n",
       "      <td>15634602</td>\n",
       "      <td>Hargrave</td>\n",
       "      <td>619</td>\n",
       "      <td>France</td>\n",
       "      <td>Female</td>\n",
       "      <td>42</td>\n",
       "      <td>2.0</td>\n",
       "      <td>0.00</td>\n",
       "      <td>1</td>\n",
       "      <td>1</td>\n",
       "      <td>1</td>\n",
       "      <td>101348.88</td>\n",
       "      <td>1</td>\n",
       "    </tr>\n",
       "    <tr>\n",
       "      <th>1</th>\n",
       "      <td>2</td>\n",
       "      <td>15647311</td>\n",
       "      <td>Hill</td>\n",
       "      <td>608</td>\n",
       "      <td>Spain</td>\n",
       "      <td>Female</td>\n",
       "      <td>41</td>\n",
       "      <td>1.0</td>\n",
       "      <td>83807.86</td>\n",
       "      <td>1</td>\n",
       "      <td>0</td>\n",
       "      <td>1</td>\n",
       "      <td>112542.58</td>\n",
       "      <td>0</td>\n",
       "    </tr>\n",
       "    <tr>\n",
       "      <th>2</th>\n",
       "      <td>3</td>\n",
       "      <td>15619304</td>\n",
       "      <td>Onio</td>\n",
       "      <td>502</td>\n",
       "      <td>France</td>\n",
       "      <td>Female</td>\n",
       "      <td>42</td>\n",
       "      <td>8.0</td>\n",
       "      <td>159660.80</td>\n",
       "      <td>3</td>\n",
       "      <td>1</td>\n",
       "      <td>0</td>\n",
       "      <td>113931.57</td>\n",
       "      <td>1</td>\n",
       "    </tr>\n",
       "    <tr>\n",
       "      <th>3</th>\n",
       "      <td>4</td>\n",
       "      <td>15701354</td>\n",
       "      <td>Boni</td>\n",
       "      <td>699</td>\n",
       "      <td>France</td>\n",
       "      <td>Female</td>\n",
       "      <td>39</td>\n",
       "      <td>1.0</td>\n",
       "      <td>0.00</td>\n",
       "      <td>2</td>\n",
       "      <td>0</td>\n",
       "      <td>0</td>\n",
       "      <td>93826.63</td>\n",
       "      <td>0</td>\n",
       "    </tr>\n",
       "    <tr>\n",
       "      <th>4</th>\n",
       "      <td>5</td>\n",
       "      <td>15737888</td>\n",
       "      <td>Mitchell</td>\n",
       "      <td>850</td>\n",
       "      <td>Spain</td>\n",
       "      <td>Female</td>\n",
       "      <td>43</td>\n",
       "      <td>2.0</td>\n",
       "      <td>125510.82</td>\n",
       "      <td>1</td>\n",
       "      <td>1</td>\n",
       "      <td>1</td>\n",
       "      <td>79084.10</td>\n",
       "      <td>0</td>\n",
       "    </tr>\n",
       "    <tr>\n",
       "      <th>5</th>\n",
       "      <td>6</td>\n",
       "      <td>15574012</td>\n",
       "      <td>Chu</td>\n",
       "      <td>645</td>\n",
       "      <td>Spain</td>\n",
       "      <td>Male</td>\n",
       "      <td>44</td>\n",
       "      <td>8.0</td>\n",
       "      <td>113755.78</td>\n",
       "      <td>2</td>\n",
       "      <td>1</td>\n",
       "      <td>0</td>\n",
       "      <td>149756.71</td>\n",
       "      <td>1</td>\n",
       "    </tr>\n",
       "    <tr>\n",
       "      <th>6</th>\n",
       "      <td>7</td>\n",
       "      <td>15592531</td>\n",
       "      <td>Bartlett</td>\n",
       "      <td>822</td>\n",
       "      <td>France</td>\n",
       "      <td>Male</td>\n",
       "      <td>50</td>\n",
       "      <td>7.0</td>\n",
       "      <td>0.00</td>\n",
       "      <td>2</td>\n",
       "      <td>1</td>\n",
       "      <td>1</td>\n",
       "      <td>10062.80</td>\n",
       "      <td>0</td>\n",
       "    </tr>\n",
       "    <tr>\n",
       "      <th>7</th>\n",
       "      <td>8</td>\n",
       "      <td>15656148</td>\n",
       "      <td>Obinna</td>\n",
       "      <td>376</td>\n",
       "      <td>Germany</td>\n",
       "      <td>Female</td>\n",
       "      <td>29</td>\n",
       "      <td>4.0</td>\n",
       "      <td>115046.74</td>\n",
       "      <td>4</td>\n",
       "      <td>1</td>\n",
       "      <td>0</td>\n",
       "      <td>119346.88</td>\n",
       "      <td>1</td>\n",
       "    </tr>\n",
       "    <tr>\n",
       "      <th>8</th>\n",
       "      <td>9</td>\n",
       "      <td>15792365</td>\n",
       "      <td>He</td>\n",
       "      <td>501</td>\n",
       "      <td>France</td>\n",
       "      <td>Male</td>\n",
       "      <td>44</td>\n",
       "      <td>4.0</td>\n",
       "      <td>142051.07</td>\n",
       "      <td>2</td>\n",
       "      <td>0</td>\n",
       "      <td>1</td>\n",
       "      <td>74940.50</td>\n",
       "      <td>0</td>\n",
       "    </tr>\n",
       "    <tr>\n",
       "      <th>9</th>\n",
       "      <td>10</td>\n",
       "      <td>15592389</td>\n",
       "      <td>H?</td>\n",
       "      <td>684</td>\n",
       "      <td>France</td>\n",
       "      <td>Male</td>\n",
       "      <td>27</td>\n",
       "      <td>2.0</td>\n",
       "      <td>134603.88</td>\n",
       "      <td>1</td>\n",
       "      <td>1</td>\n",
       "      <td>1</td>\n",
       "      <td>71725.73</td>\n",
       "      <td>0</td>\n",
       "    </tr>\n",
       "  </tbody>\n",
       "</table>\n",
       "</div>"
      ],
      "text/plain": [
       "   RowNumber  CustomerId   Surname  CreditScore Geography  Gender  Age  \\\n",
       "0          1    15634602  Hargrave          619    France  Female   42   \n",
       "1          2    15647311      Hill          608     Spain  Female   41   \n",
       "2          3    15619304      Onio          502    France  Female   42   \n",
       "3          4    15701354      Boni          699    France  Female   39   \n",
       "4          5    15737888  Mitchell          850     Spain  Female   43   \n",
       "5          6    15574012       Chu          645     Spain    Male   44   \n",
       "6          7    15592531  Bartlett          822    France    Male   50   \n",
       "7          8    15656148    Obinna          376   Germany  Female   29   \n",
       "8          9    15792365        He          501    France    Male   44   \n",
       "9         10    15592389        H?          684    France    Male   27   \n",
       "\n",
       "   Tenure    Balance  NumOfProducts  HasCrCard  IsActiveMember  \\\n",
       "0     2.0       0.00              1          1               1   \n",
       "1     1.0   83807.86              1          0               1   \n",
       "2     8.0  159660.80              3          1               0   \n",
       "3     1.0       0.00              2          0               0   \n",
       "4     2.0  125510.82              1          1               1   \n",
       "5     8.0  113755.78              2          1               0   \n",
       "6     7.0       0.00              2          1               1   \n",
       "7     4.0  115046.74              4          1               0   \n",
       "8     4.0  142051.07              2          0               1   \n",
       "9     2.0  134603.88              1          1               1   \n",
       "\n",
       "   EstimatedSalary  Exited  \n",
       "0        101348.88       1  \n",
       "1        112542.58       0  \n",
       "2        113931.57       1  \n",
       "3         93826.63       0  \n",
       "4         79084.10       0  \n",
       "5        149756.71       1  \n",
       "6         10062.80       0  \n",
       "7        119346.88       1  \n",
       "8         74940.50       0  \n",
       "9         71725.73       0  "
      ]
     },
     "execution_count": 3,
     "metadata": {},
     "output_type": "execute_result"
    }
   ],
   "source": [
    "# Printing first 10 rows\n",
    "users.head(10)"
   ]
  },
  {
   "cell_type": "markdown",
   "metadata": {},
   "source": [
    "### Data Structure:\n",
    "\n",
    "**Target Column:**\n",
    "- Exited: This column is already binary encoded and will be used as the target feature.\n",
    "\n",
    "**Binary Encoded Features:**\n",
    "- HasCrCard\n",
    "- IsActiveMember\n",
    "- Exited (target)\n",
    "\n",
    "**Categorical Features:**\n",
    "- Geography (will need one-hot encoding)\n",
    "- Gender (can be one-hot encoded or assigned binary values)\n",
    "\n",
    "**Numerical Features:**\n",
    "- CreditScore\n",
    "- Age\n",
    "- Tenure (can be converted to integer if it represents whole years)\n",
    "- Balance\n",
    "- NumOfProducts\n",
    "- EstimatedSalary\n",
    "\n",
    "**Irrelevant Features:**\n",
    "- CustomerId: Unique identifier, not useful for prediction.\n",
    "- RowNumber: Index, not useful for prediction.\n",
    "- Surname: Likely not useful for prediction unless there's a specific reason.\n",
    "\n",
    "### Format:\n",
    "\n",
    "**Column Naming:**\n",
    "- The dataset columns are currently in CamelCase but I'll be changing these to snake_case\n",
    "\n",
    "\n",
    "**Column Types:**\n",
    "- Tenure is currently a float but could be an integer if it represents whole years.\n",
    "- HasCrCard should have a more descriptive name.\n",
    "\n",
    "### Misc\n",
    "\n",
    "**Data Anomalies:**\n",
    "- The surname for index 9 is \"H?\", which is odd. This suggests that the Surname column may have issues and might not be reliable.\n",
    "\n",
    "**Target Balance:**\n",
    "- From the first 10 observations, the target Exited seems relatively balanced between instances of 0 and 1."
   ]
  },
  {
   "cell_type": "code",
   "execution_count": 3,
   "metadata": {},
   "outputs": [
    {
     "name": "stdout",
     "output_type": "stream",
     "text": [
      "0    7963\n",
      "1    2037\n",
      "Name: Exited, dtype: int64\n"
     ]
    }
   ],
   "source": [
    "# Confirming class balance \n",
    "print(users['Exited'].value_counts())"
   ]
  },
  {
   "cell_type": "markdown",
   "metadata": {},
   "source": [
    "**Target Feature:**\n",
    " Exited- Customer has left. If 0, customer has not left. If 1, customer has left the company\n",
    " \n",
    "**Class Imbalance:** There are 7,963 instances categorized as class 0, with only 2,037 instances classified as class 1. This discrepancy indicates a substantial imbalance between the two classes, where class 0 represents the majority and class 1 the minority. This imbalance will need to be adressed as it might interefere with modeling and analysis."
   ]
  },
  {
   "cell_type": "code",
   "execution_count": 4,
   "metadata": {},
   "outputs": [
    {
     "name": "stdout",
     "output_type": "stream",
     "text": [
      "(10000, 14)\n"
     ]
    }
   ],
   "source": [
    "# how many rows and columns are in the dataframe \n",
    "print(users.shape)"
   ]
  },
  {
   "cell_type": "markdown",
   "metadata": {},
   "source": [
    "There are 10,000 rows and 14 columns in this dataset"
   ]
  },
  {
   "cell_type": "code",
   "execution_count": 5,
   "metadata": {},
   "outputs": [
    {
     "name": "stdout",
     "output_type": "stream",
     "text": [
      "<class 'pandas.core.frame.DataFrame'>\n",
      "RangeIndex: 10000 entries, 0 to 9999\n",
      "Data columns (total 14 columns):\n",
      " #   Column           Non-Null Count  Dtype  \n",
      "---  ------           --------------  -----  \n",
      " 0   RowNumber        10000 non-null  int64  \n",
      " 1   CustomerId       10000 non-null  int64  \n",
      " 2   Surname          10000 non-null  object \n",
      " 3   CreditScore      10000 non-null  int64  \n",
      " 4   Geography        10000 non-null  object \n",
      " 5   Gender           10000 non-null  object \n",
      " 6   Age              10000 non-null  int64  \n",
      " 7   Tenure           9091 non-null   float64\n",
      " 8   Balance          10000 non-null  float64\n",
      " 9   NumOfProducts    10000 non-null  int64  \n",
      " 10  HasCrCard        10000 non-null  int64  \n",
      " 11  IsActiveMember   10000 non-null  int64  \n",
      " 12  EstimatedSalary  10000 non-null  float64\n",
      " 13  Exited           10000 non-null  int64  \n",
      "dtypes: float64(3), int64(8), object(3)\n",
      "memory usage: 1.1+ MB\n",
      "None\n"
     ]
    }
   ],
   "source": [
    "# Information about the dataset\n",
    "print(users.info())"
   ]
  },
  {
   "cell_type": "markdown",
   "metadata": {},
   "source": [
    "Most of the data types appear correct and almost all columns have no missing vlaues. \n",
    "\n",
    "**Notes:**\n",
    "At first glance it's easy to see that Tenure is missing quite a few values.\n",
    "\n",
    "Many of these features will be dropped for the purpose of the model or changed after OHE so there isn't too much useful information here that I wasn't aware of before.\n"
   ]
  },
  {
   "cell_type": "code",
   "execution_count": 6,
   "metadata": {},
   "outputs": [
    {
     "name": "stdout",
     "output_type": "stream",
     "text": [
      "Percentage of missing values in Tenure column: 9.09%\n"
     ]
    }
   ],
   "source": [
    "# Checking to see how significant of an impact the missing values are in the Tenure column \n",
    "missing_percentage = (users['Tenure'].isna().sum() / len(users)) * 100\n",
    "print(f\"Percentage of missing values in Tenure column: {missing_percentage:.2f}%\")"
   ]
  },
  {
   "cell_type": "markdown",
   "metadata": {},
   "source": [
    "This doesn't seem like a large number but it is above the treshold of missing values for this dataset so it may be improtant to find another way around these missign values. If I had a better understanding of the dataset, it would be easier to imply that the missing values might just mean that the account hasn't matured for any years yet. But I can't confirm this. One approach is to take the median tenure and fill the missing values with that but that could potentially create bias for the model. In the same vain, deleting all the missing rows might also negatively impact the model by making the dataset smaller. \n",
    "\n",
    "However, the class imbalance already exists and will be dealt with so the easiest approach is to delete the columns with the missing values for now and try not to create a bigger class imbalance. "
   ]
  },
  {
   "cell_type": "code",
   "execution_count": 7,
   "metadata": {},
   "outputs": [
    {
     "name": "stdout",
     "output_type": "stream",
     "text": [
      "Number of missing values:\n",
      " RowNumber          0\n",
      "CustomerId         0\n",
      "Surname            0\n",
      "CreditScore        0\n",
      "Geography          0\n",
      "Gender             0\n",
      "Age                0\n",
      "Tenure             0\n",
      "Balance            0\n",
      "NumOfProducts      0\n",
      "HasCrCard          0\n",
      "IsActiveMember     0\n",
      "EstimatedSalary    0\n",
      "Exited             0\n",
      "dtype: int64\n",
      "\n",
      "\n",
      "Duplicates: 0\n"
     ]
    }
   ],
   "source": [
    "# Handling missing values by dropping the rows with missing values\n",
    "users = users.dropna(subset=['Tenure'])\n",
    "print('Number of missing values:\\n', users.isna().sum())\n",
    "\n",
    "print('\\n')\n",
    "# Double checking for duplicates as well\n",
    "print('Duplicates:', users.duplicated().sum())"
   ]
  },
  {
   "cell_type": "code",
   "execution_count": 8,
   "metadata": {},
   "outputs": [],
   "source": [
    "# Making changes across dataframe \n",
    "\n",
    "# Dropping unnecessary features\n",
    "unnecessary_columns = ['RowNumber', 'CustomerId', 'Surname']\n",
    "users = users.drop(columns=unnecessary_columns)\n",
    "\n",
    "# Renaming the columns to more descriptive names in snake_case \n",
    "users = users.rename(columns={\n",
    "    'CreditScore': 'credit_score',\n",
    "    'Geography': 'geography',\n",
    "    'Gender': 'gender',\n",
    "    'Age': 'age',\n",
    "    'Tenure': 'tenure_years',\n",
    "    'Balance': 'balance',\n",
    "    'NumOfProducts': 'num_of_products',\n",
    "    'HasCrCard': 'has_credit_card',\n",
    "    'IsActiveMember': 'is_active_member',\n",
    "    'EstimatedSalary': 'estimated_salary',\n",
    "    'Exited': 'exited'\n",
    "})\n",
    "\n",
    "# Changing dtype for tenure to int instead of float \n",
    "users['tenure_years'] = users['tenure_years'].astype(int)"
   ]
  },
  {
   "cell_type": "code",
   "execution_count": 9,
   "metadata": {
    "scrolled": false
   },
   "outputs": [
    {
     "data": {
      "text/html": [
       "<div>\n",
       "<style scoped>\n",
       "    .dataframe tbody tr th:only-of-type {\n",
       "        vertical-align: middle;\n",
       "    }\n",
       "\n",
       "    .dataframe tbody tr th {\n",
       "        vertical-align: top;\n",
       "    }\n",
       "\n",
       "    .dataframe thead th {\n",
       "        text-align: right;\n",
       "    }\n",
       "</style>\n",
       "<table border=\"1\" class=\"dataframe\">\n",
       "  <thead>\n",
       "    <tr style=\"text-align: right;\">\n",
       "      <th></th>\n",
       "      <th>credit_score</th>\n",
       "      <th>age</th>\n",
       "      <th>tenure_years</th>\n",
       "      <th>balance</th>\n",
       "      <th>num_of_products</th>\n",
       "      <th>has_credit_card</th>\n",
       "      <th>is_active_member</th>\n",
       "      <th>estimated_salary</th>\n",
       "      <th>exited</th>\n",
       "      <th>geography_Germany</th>\n",
       "      <th>geography_Spain</th>\n",
       "      <th>gender_Male</th>\n",
       "    </tr>\n",
       "  </thead>\n",
       "  <tbody>\n",
       "    <tr>\n",
       "      <th>0</th>\n",
       "      <td>619</td>\n",
       "      <td>42</td>\n",
       "      <td>2</td>\n",
       "      <td>0.00</td>\n",
       "      <td>1</td>\n",
       "      <td>1</td>\n",
       "      <td>1</td>\n",
       "      <td>101348.88</td>\n",
       "      <td>1</td>\n",
       "      <td>0</td>\n",
       "      <td>0</td>\n",
       "      <td>0</td>\n",
       "    </tr>\n",
       "    <tr>\n",
       "      <th>1</th>\n",
       "      <td>608</td>\n",
       "      <td>41</td>\n",
       "      <td>1</td>\n",
       "      <td>83807.86</td>\n",
       "      <td>1</td>\n",
       "      <td>0</td>\n",
       "      <td>1</td>\n",
       "      <td>112542.58</td>\n",
       "      <td>0</td>\n",
       "      <td>0</td>\n",
       "      <td>1</td>\n",
       "      <td>0</td>\n",
       "    </tr>\n",
       "    <tr>\n",
       "      <th>2</th>\n",
       "      <td>502</td>\n",
       "      <td>42</td>\n",
       "      <td>8</td>\n",
       "      <td>159660.80</td>\n",
       "      <td>3</td>\n",
       "      <td>1</td>\n",
       "      <td>0</td>\n",
       "      <td>113931.57</td>\n",
       "      <td>1</td>\n",
       "      <td>0</td>\n",
       "      <td>0</td>\n",
       "      <td>0</td>\n",
       "    </tr>\n",
       "    <tr>\n",
       "      <th>3</th>\n",
       "      <td>699</td>\n",
       "      <td>39</td>\n",
       "      <td>1</td>\n",
       "      <td>0.00</td>\n",
       "      <td>2</td>\n",
       "      <td>0</td>\n",
       "      <td>0</td>\n",
       "      <td>93826.63</td>\n",
       "      <td>0</td>\n",
       "      <td>0</td>\n",
       "      <td>0</td>\n",
       "      <td>0</td>\n",
       "    </tr>\n",
       "    <tr>\n",
       "      <th>4</th>\n",
       "      <td>850</td>\n",
       "      <td>43</td>\n",
       "      <td>2</td>\n",
       "      <td>125510.82</td>\n",
       "      <td>1</td>\n",
       "      <td>1</td>\n",
       "      <td>1</td>\n",
       "      <td>79084.10</td>\n",
       "      <td>0</td>\n",
       "      <td>0</td>\n",
       "      <td>1</td>\n",
       "      <td>0</td>\n",
       "    </tr>\n",
       "    <tr>\n",
       "      <th>...</th>\n",
       "      <td>...</td>\n",
       "      <td>...</td>\n",
       "      <td>...</td>\n",
       "      <td>...</td>\n",
       "      <td>...</td>\n",
       "      <td>...</td>\n",
       "      <td>...</td>\n",
       "      <td>...</td>\n",
       "      <td>...</td>\n",
       "      <td>...</td>\n",
       "      <td>...</td>\n",
       "      <td>...</td>\n",
       "    </tr>\n",
       "    <tr>\n",
       "      <th>9994</th>\n",
       "      <td>800</td>\n",
       "      <td>29</td>\n",
       "      <td>2</td>\n",
       "      <td>0.00</td>\n",
       "      <td>2</td>\n",
       "      <td>0</td>\n",
       "      <td>0</td>\n",
       "      <td>167773.55</td>\n",
       "      <td>0</td>\n",
       "      <td>0</td>\n",
       "      <td>0</td>\n",
       "      <td>0</td>\n",
       "    </tr>\n",
       "    <tr>\n",
       "      <th>9995</th>\n",
       "      <td>771</td>\n",
       "      <td>39</td>\n",
       "      <td>5</td>\n",
       "      <td>0.00</td>\n",
       "      <td>2</td>\n",
       "      <td>1</td>\n",
       "      <td>0</td>\n",
       "      <td>96270.64</td>\n",
       "      <td>0</td>\n",
       "      <td>0</td>\n",
       "      <td>0</td>\n",
       "      <td>1</td>\n",
       "    </tr>\n",
       "    <tr>\n",
       "      <th>9996</th>\n",
       "      <td>516</td>\n",
       "      <td>35</td>\n",
       "      <td>10</td>\n",
       "      <td>57369.61</td>\n",
       "      <td>1</td>\n",
       "      <td>1</td>\n",
       "      <td>1</td>\n",
       "      <td>101699.77</td>\n",
       "      <td>0</td>\n",
       "      <td>0</td>\n",
       "      <td>0</td>\n",
       "      <td>1</td>\n",
       "    </tr>\n",
       "    <tr>\n",
       "      <th>9997</th>\n",
       "      <td>709</td>\n",
       "      <td>36</td>\n",
       "      <td>7</td>\n",
       "      <td>0.00</td>\n",
       "      <td>1</td>\n",
       "      <td>0</td>\n",
       "      <td>1</td>\n",
       "      <td>42085.58</td>\n",
       "      <td>1</td>\n",
       "      <td>0</td>\n",
       "      <td>0</td>\n",
       "      <td>0</td>\n",
       "    </tr>\n",
       "    <tr>\n",
       "      <th>9998</th>\n",
       "      <td>772</td>\n",
       "      <td>42</td>\n",
       "      <td>3</td>\n",
       "      <td>75075.31</td>\n",
       "      <td>2</td>\n",
       "      <td>1</td>\n",
       "      <td>0</td>\n",
       "      <td>92888.52</td>\n",
       "      <td>1</td>\n",
       "      <td>1</td>\n",
       "      <td>0</td>\n",
       "      <td>1</td>\n",
       "    </tr>\n",
       "  </tbody>\n",
       "</table>\n",
       "<p>9091 rows × 12 columns</p>\n",
       "</div>"
      ],
      "text/plain": [
       "      credit_score  age  tenure_years    balance  num_of_products  \\\n",
       "0              619   42             2       0.00                1   \n",
       "1              608   41             1   83807.86                1   \n",
       "2              502   42             8  159660.80                3   \n",
       "3              699   39             1       0.00                2   \n",
       "4              850   43             2  125510.82                1   \n",
       "...            ...  ...           ...        ...              ...   \n",
       "9994           800   29             2       0.00                2   \n",
       "9995           771   39             5       0.00                2   \n",
       "9996           516   35            10   57369.61                1   \n",
       "9997           709   36             7       0.00                1   \n",
       "9998           772   42             3   75075.31                2   \n",
       "\n",
       "      has_credit_card  is_active_member  estimated_salary  exited  \\\n",
       "0                   1                 1         101348.88       1   \n",
       "1                   0                 1         112542.58       0   \n",
       "2                   1                 0         113931.57       1   \n",
       "3                   0                 0          93826.63       0   \n",
       "4                   1                 1          79084.10       0   \n",
       "...               ...               ...               ...     ...   \n",
       "9994                0                 0         167773.55       0   \n",
       "9995                1                 0          96270.64       0   \n",
       "9996                1                 1         101699.77       0   \n",
       "9997                0                 1          42085.58       1   \n",
       "9998                1                 0          92888.52       1   \n",
       "\n",
       "      geography_Germany  geography_Spain  gender_Male  \n",
       "0                     0                0            0  \n",
       "1                     0                1            0  \n",
       "2                     0                0            0  \n",
       "3                     0                0            0  \n",
       "4                     0                1            0  \n",
       "...                 ...              ...          ...  \n",
       "9994                  0                0            0  \n",
       "9995                  0                0            1  \n",
       "9996                  0                0            1  \n",
       "9997                  0                0            0  \n",
       "9998                  1                0            1  \n",
       "\n",
       "[9091 rows x 12 columns]"
      ]
     },
     "execution_count": 9,
     "metadata": {},
     "output_type": "execute_result"
    }
   ],
   "source": [
    "# OHE for categorical features because ordinal would not make sense \n",
    "users_ohe = pd.get_dummies(users, drop_first=True)\n",
    "users_ohe"
   ]
  },
  {
   "cell_type": "code",
   "execution_count": 10,
   "metadata": {},
   "outputs": [],
   "source": [
    "# Drop one of the columns from gender OHE and rename remaining column as 'gender'\n",
    "users = users_ohe.rename(columns={'gender_Male': 'gender'})"
   ]
  },
  {
   "cell_type": "code",
   "execution_count": 11,
   "metadata": {
    "scrolled": false
   },
   "outputs": [
    {
     "data": {
      "text/html": [
       "<div>\n",
       "<style scoped>\n",
       "    .dataframe tbody tr th:only-of-type {\n",
       "        vertical-align: middle;\n",
       "    }\n",
       "\n",
       "    .dataframe tbody tr th {\n",
       "        vertical-align: top;\n",
       "    }\n",
       "\n",
       "    .dataframe thead th {\n",
       "        text-align: right;\n",
       "    }\n",
       "</style>\n",
       "<table border=\"1\" class=\"dataframe\">\n",
       "  <thead>\n",
       "    <tr style=\"text-align: right;\">\n",
       "      <th></th>\n",
       "      <th>credit_score</th>\n",
       "      <th>age</th>\n",
       "      <th>tenure_years</th>\n",
       "      <th>balance</th>\n",
       "      <th>num_of_products</th>\n",
       "      <th>has_credit_card</th>\n",
       "      <th>is_active_member</th>\n",
       "      <th>estimated_salary</th>\n",
       "      <th>exited</th>\n",
       "      <th>geography_Germany</th>\n",
       "      <th>geography_Spain</th>\n",
       "      <th>gender</th>\n",
       "    </tr>\n",
       "  </thead>\n",
       "  <tbody>\n",
       "    <tr>\n",
       "      <th>0</th>\n",
       "      <td>619</td>\n",
       "      <td>42</td>\n",
       "      <td>2</td>\n",
       "      <td>0.00</td>\n",
       "      <td>1</td>\n",
       "      <td>1</td>\n",
       "      <td>1</td>\n",
       "      <td>101348.88</td>\n",
       "      <td>1</td>\n",
       "      <td>0</td>\n",
       "      <td>0</td>\n",
       "      <td>0</td>\n",
       "    </tr>\n",
       "    <tr>\n",
       "      <th>1</th>\n",
       "      <td>608</td>\n",
       "      <td>41</td>\n",
       "      <td>1</td>\n",
       "      <td>83807.86</td>\n",
       "      <td>1</td>\n",
       "      <td>0</td>\n",
       "      <td>1</td>\n",
       "      <td>112542.58</td>\n",
       "      <td>0</td>\n",
       "      <td>0</td>\n",
       "      <td>1</td>\n",
       "      <td>0</td>\n",
       "    </tr>\n",
       "    <tr>\n",
       "      <th>2</th>\n",
       "      <td>502</td>\n",
       "      <td>42</td>\n",
       "      <td>8</td>\n",
       "      <td>159660.80</td>\n",
       "      <td>3</td>\n",
       "      <td>1</td>\n",
       "      <td>0</td>\n",
       "      <td>113931.57</td>\n",
       "      <td>1</td>\n",
       "      <td>0</td>\n",
       "      <td>0</td>\n",
       "      <td>0</td>\n",
       "    </tr>\n",
       "    <tr>\n",
       "      <th>3</th>\n",
       "      <td>699</td>\n",
       "      <td>39</td>\n",
       "      <td>1</td>\n",
       "      <td>0.00</td>\n",
       "      <td>2</td>\n",
       "      <td>0</td>\n",
       "      <td>0</td>\n",
       "      <td>93826.63</td>\n",
       "      <td>0</td>\n",
       "      <td>0</td>\n",
       "      <td>0</td>\n",
       "      <td>0</td>\n",
       "    </tr>\n",
       "    <tr>\n",
       "      <th>4</th>\n",
       "      <td>850</td>\n",
       "      <td>43</td>\n",
       "      <td>2</td>\n",
       "      <td>125510.82</td>\n",
       "      <td>1</td>\n",
       "      <td>1</td>\n",
       "      <td>1</td>\n",
       "      <td>79084.10</td>\n",
       "      <td>0</td>\n",
       "      <td>0</td>\n",
       "      <td>1</td>\n",
       "      <td>0</td>\n",
       "    </tr>\n",
       "    <tr>\n",
       "      <th>5</th>\n",
       "      <td>645</td>\n",
       "      <td>44</td>\n",
       "      <td>8</td>\n",
       "      <td>113755.78</td>\n",
       "      <td>2</td>\n",
       "      <td>1</td>\n",
       "      <td>0</td>\n",
       "      <td>149756.71</td>\n",
       "      <td>1</td>\n",
       "      <td>0</td>\n",
       "      <td>1</td>\n",
       "      <td>1</td>\n",
       "    </tr>\n",
       "    <tr>\n",
       "      <th>6</th>\n",
       "      <td>822</td>\n",
       "      <td>50</td>\n",
       "      <td>7</td>\n",
       "      <td>0.00</td>\n",
       "      <td>2</td>\n",
       "      <td>1</td>\n",
       "      <td>1</td>\n",
       "      <td>10062.80</td>\n",
       "      <td>0</td>\n",
       "      <td>0</td>\n",
       "      <td>0</td>\n",
       "      <td>1</td>\n",
       "    </tr>\n",
       "    <tr>\n",
       "      <th>7</th>\n",
       "      <td>376</td>\n",
       "      <td>29</td>\n",
       "      <td>4</td>\n",
       "      <td>115046.74</td>\n",
       "      <td>4</td>\n",
       "      <td>1</td>\n",
       "      <td>0</td>\n",
       "      <td>119346.88</td>\n",
       "      <td>1</td>\n",
       "      <td>1</td>\n",
       "      <td>0</td>\n",
       "      <td>0</td>\n",
       "    </tr>\n",
       "    <tr>\n",
       "      <th>8</th>\n",
       "      <td>501</td>\n",
       "      <td>44</td>\n",
       "      <td>4</td>\n",
       "      <td>142051.07</td>\n",
       "      <td>2</td>\n",
       "      <td>0</td>\n",
       "      <td>1</td>\n",
       "      <td>74940.50</td>\n",
       "      <td>0</td>\n",
       "      <td>0</td>\n",
       "      <td>0</td>\n",
       "      <td>1</td>\n",
       "    </tr>\n",
       "    <tr>\n",
       "      <th>9</th>\n",
       "      <td>684</td>\n",
       "      <td>27</td>\n",
       "      <td>2</td>\n",
       "      <td>134603.88</td>\n",
       "      <td>1</td>\n",
       "      <td>1</td>\n",
       "      <td>1</td>\n",
       "      <td>71725.73</td>\n",
       "      <td>0</td>\n",
       "      <td>0</td>\n",
       "      <td>0</td>\n",
       "      <td>1</td>\n",
       "    </tr>\n",
       "  </tbody>\n",
       "</table>\n",
       "</div>"
      ],
      "text/plain": [
       "   credit_score  age  tenure_years    balance  num_of_products  \\\n",
       "0           619   42             2       0.00                1   \n",
       "1           608   41             1   83807.86                1   \n",
       "2           502   42             8  159660.80                3   \n",
       "3           699   39             1       0.00                2   \n",
       "4           850   43             2  125510.82                1   \n",
       "5           645   44             8  113755.78                2   \n",
       "6           822   50             7       0.00                2   \n",
       "7           376   29             4  115046.74                4   \n",
       "8           501   44             4  142051.07                2   \n",
       "9           684   27             2  134603.88                1   \n",
       "\n",
       "   has_credit_card  is_active_member  estimated_salary  exited  \\\n",
       "0                1                 1         101348.88       1   \n",
       "1                0                 1         112542.58       0   \n",
       "2                1                 0         113931.57       1   \n",
       "3                0                 0          93826.63       0   \n",
       "4                1                 1          79084.10       0   \n",
       "5                1                 0         149756.71       1   \n",
       "6                1                 1          10062.80       0   \n",
       "7                1                 0         119346.88       1   \n",
       "8                0                 1          74940.50       0   \n",
       "9                1                 1          71725.73       0   \n",
       "\n",
       "   geography_Germany  geography_Spain  gender  \n",
       "0                  0                0       0  \n",
       "1                  0                1       0  \n",
       "2                  0                0       0  \n",
       "3                  0                0       0  \n",
       "4                  0                1       0  \n",
       "5                  0                1       1  \n",
       "6                  0                0       1  \n",
       "7                  1                0       0  \n",
       "8                  0                0       1  \n",
       "9                  0                0       1  "
      ]
     },
     "execution_count": 11,
     "metadata": {},
     "output_type": "execute_result"
    }
   ],
   "source": [
    "# Confirming correct genders & columns \n",
    "users.head(10)"
   ]
  },
  {
   "cell_type": "markdown",
   "metadata": {},
   "source": [
    "Helpful Reminders: \n",
    "    \n",
    "Gender - Female  = 0 and Male = 1 \n",
    "\n",
    "Geography - geography Germany and Spain have their own columns, is both are 0 then geography = France "
   ]
  },
  {
   "cell_type": "markdown",
   "metadata": {},
   "source": [
    "## Seperate dataset into features and target¶"
   ]
  },
  {
   "cell_type": "markdown",
   "metadata": {},
   "source": [
    "- explain whats the target & features \n",
    "\n",
    "I have chosen to split the data into different datasets using a 3:1:1 guideline - 60% training, 20% test, 20% validation. Since there is no additional test data included, it's necessary to split the dataset into 3 distinct parts. This is a common practice, so it's a good starting point to find the best model.\n",
    "\n",
    "The data will be split first between training and validation and once again for testing."
   ]
  },
  {
   "cell_type": "code",
   "execution_count": 12,
   "metadata": {},
   "outputs": [
    {
     "name": "stdout",
     "output_type": "stream",
     "text": [
      "Features: (9091, 11)\n",
      "Target: (9091,)\n"
     ]
    }
   ],
   "source": [
    "# seperating into the feature variable\n",
    "features = users.drop(['exited'], axis=1)\n",
    "\n",
    "# seperating the target variable \n",
    "target = users['exited']\n",
    "\n",
    "# the shape of the dataframe & the shape of the dataframe\n",
    "print('Features:', features.shape)\n",
    "print('Target:', target.shape)"
   ]
  },
  {
   "cell_type": "code",
   "execution_count": 13,
   "metadata": {
    "scrolled": true
   },
   "outputs": [
    {
     "name": "stdout",
     "output_type": "stream",
     "text": [
      "Shape of training features: (5454, 11)\n",
      "Shape of training target: (5454,)\n",
      "Shape of validation features: (1818, 11)\n",
      "Shape of validation target: (1818,)\n",
      "Shape of test features: (1819, 11)\n",
      "Shape of test target: (1819,)\n"
     ]
    }
   ],
   "source": [
    "# Initial split into training, validation, and test sets\n",
    "features_train_val, features_test, target_train_val, target_test = train_test_split(\n",
    "    features, target, test_size=0.2, random_state=1, stratify=target)\n",
    "\n",
    "# Further split the training and validation data\n",
    "features_train, features_valid, target_train, target_valid = train_test_split(\n",
    "    features_train_val, target_train_val, test_size=0.25, random_state=1, stratify=target_train_val)\n",
    "\n",
    "\n",
    "# Initialize scaler\n",
    "scaler = StandardScaler()\n",
    "\n",
    "# Fit scaler on the training data and transform all feature data\n",
    "features_train = scaler.fit_transform(features_train)\n",
    "features_valid = scaler.transform(features_valid)\n",
    "features_test = scaler.transform(features_test)\n",
    "\n",
    "# Convert scaled features back to DataFrame so it's compatitable with future lines of code\n",
    "features_train = pd.DataFrame(features_train, columns=features.columns)\n",
    "features_valid = pd.DataFrame(features_valid, columns=features.columns)\n",
    "features_test = pd.DataFrame(features_test, columns=features.columns)\n",
    "\n",
    "\n",
    "# Verify the shapes\n",
    "print('Shape of training features:', features_train.shape)\n",
    "print('Shape of training target:', target_train.shape)\n",
    "print('Shape of validation features:', features_valid.shape)\n",
    "print('Shape of validation target:', target_valid.shape)\n",
    "print('Shape of test features:', features_test.shape)\n",
    "print('Shape of test target:', target_test.shape)"
   ]
  },
  {
   "cell_type": "code",
   "execution_count": 14,
   "metadata": {},
   "outputs": [
    {
     "name": "stdout",
     "output_type": "stream",
     "text": [
      "F1 Score for Decision Tree Classifier: 0.48728246318607765\n",
      "F1 Score for Random Forest: 0.5432937181663837\n",
      "F1 Score for Logistic Regressor: 0.3142857142857143\n"
     ]
    }
   ],
   "source": [
    "# Initial training and evaluation of Decision Tree Classifier\n",
    "decision_tree_model = DecisionTreeClassifier()\n",
    "decision_tree_model.fit(features_train, target_train)\n",
    "target_pred_tree = decision_tree_model.predict(features_valid)\n",
    "f1_tree = f1_score(target_valid, target_pred_tree)\n",
    "\n",
    "# Initial training and evaluation of Random Forest\n",
    "forest_model = RandomForestClassifier()\n",
    "forest_model.fit(features_train, target_train)\n",
    "target_pred_forest = forest_model.predict(features_valid)\n",
    "f1_forest = f1_score(target_valid, target_pred_forest)\n",
    "\n",
    "# Initial training and evaluation of Logistic Regressor\n",
    "log_reg = LogisticRegression()\n",
    "log_reg.fit(features_train, target_train)\n",
    "target_pred_log = log_reg.predict(features_valid)\n",
    "f1_log = f1_score(target_valid, target_pred_log)\n",
    "\n",
    "print(f\"F1 Score for Decision Tree Classifier: {f1_tree}\")\n",
    "print(f\"F1 Score for Random Forest: {f1_forest}\")\n",
    "print(f\"F1 Score for Logistic Regressor: {f1_log}\")"
   ]
  },
  {
   "cell_type": "markdown",
   "metadata": {},
   "source": [
    "From the above models, it appears that when imbalanced classes are only taken into account through the evaluation of the F1_score, then the best performing model is Random Forest. The F1 Score of roughly 0.61 (0.55 after using standard scaler) is still a very average score and not necessarily a good one. The second highest performing model here is Decision Tree Classifier, which works a lot like the Random Forest model so it seems like these two are more suitable models for this dataset. The Logistic Regression model does not seem suitable so improving it's quality might not make a substantial enough of difference. "
   ]
  },
  {
   "cell_type": "markdown",
   "metadata": {},
   "source": [
    "<div class=\"alert alert-success\" style=\"border-radius: 15px; box-shadow: 4px 4px 4px; border: 1px solid \">\n",
    "<h2> Reviewer's comment</h2>\n",
    "    \n",
    "Well done!     \n",
    "</div>"
   ]
  },
  {
   "cell_type": "markdown",
   "metadata": {},
   "source": [
    "## Improve Quality of Decision Tree CLassifier and Random Forest Classifier Models "
   ]
  },
  {
   "cell_type": "markdown",
   "metadata": {},
   "source": [
    "The first model is a Decision Tree. This model may not be as robust as a Random Forest, but it will be interesting to see how it compares, especially when hyperparameters are changed. We will also be fixing the class imbalances to see how these changes improve the model's quality\n",
    "\n",
    "### REMINDERS\n",
    "\n",
    "**Target Feature**\n",
    " Exited: Customer has left. If 0, customer has not left. If 1, customer has left the company\n",
    " \n",
    "**Class Imabalance** Class 1 is the minority class, so the minority of customers listed are the ones who have left the company."
   ]
  },
  {
   "cell_type": "markdown",
   "metadata": {},
   "source": [
    "### Model #1:\n",
    "\n",
    "# Decision Tree "
   ]
  },
  {
   "cell_type": "code",
   "execution_count": 15,
   "metadata": {},
   "outputs": [
    {
     "name": "stdout",
     "output_type": "stream",
     "text": [
      "Predicted Zeroes: 1482\n",
      "Predicted Ones: 336\n",
      "F1 score of the model is: 0.46\n"
     ]
    }
   ],
   "source": [
    "# Optimize for class imbalance with class_weight\n",
    "balanced_tree_model = DecisionTreeClassifier(random_state=1, class_weight='balanced')\n",
    "balanced_tree_model.fit(features_train, target_train)\n",
    "\n",
    "# get predictions from the model \n",
    "tree_predict = balanced_tree_model.predict(features_valid)\n",
    "print('Predicted Zeroes:' , np.sum(1-tree_predict))\n",
    "print('Predicted Ones:' , np.sum(tree_predict))\n",
    "\n",
    "# getting F1 score using validation set \n",
    "updated_f1_tree = f1_score(target_valid, tree_predict).round(2)\n",
    "print('F1 score of the model is:', updated_f1_tree)"
   ]
  },
  {
   "cell_type": "markdown",
   "metadata": {},
   "source": [
    "This method of optimizing for class imbalance doesn't seem to make any changes. So we'll try upsampling instead:"
   ]
  },
  {
   "cell_type": "code",
   "execution_count": 16,
   "metadata": {},
   "outputs": [
    {
     "name": "stdout",
     "output_type": "stream",
     "text": [
      "F1 Score for DecsionTreeClassifier with upsampling: 0.4851063829787234\n"
     ]
    }
   ],
   "source": [
    "# Define the upsampling function\n",
    "def upsample(features, target, repeat):\n",
    "    # Reset indices to ensure alignment\n",
    "    features = features.reset_index(drop=True)\n",
    "    target = target.reset_index(drop=True)\n",
    "    \n",
    "    # Separate the classes\n",
    "    features_zeros = features[target == 0]\n",
    "    features_ones = features[target == 1]\n",
    "    target_zeros = target[target == 0]\n",
    "    target_ones = target[target == 1]\n",
    "    \n",
    "    # Upsample the minority class\n",
    "    features_upsampled = pd.concat([features_zeros] + [features_ones] * repeat, ignore_index=True)\n",
    "    target_upsampled = pd.concat([target_zeros] + [target_ones] * repeat, ignore_index=True)\n",
    "    \n",
    "    # Shuffle the data\n",
    "    features_upsampled, target_upsampled = shuffle(features_upsampled, target_upsampled, random_state=1)\n",
    "    \n",
    "    return features_upsampled, target_upsampled\n",
    "# Upsample the training data using 10 for repeat variable\n",
    "features_upsampled, target_upsampled = upsample(features_train, target_train, 10)\n",
    "\n",
    "# Train the model on the upsampled data\n",
    "tree_up_model = DecisionTreeClassifier(random_state=1)\n",
    "tree_up_model.fit(features_upsampled, target_upsampled)\n",
    "\n",
    "# Get predictions on the validation set\n",
    "predicted_valid = tree_up_model.predict(features_valid)\n",
    "\n",
    "# Calculate and print the F1 score\n",
    "print('F1 Score for DecsionTreeClassifier with upsampling:', f1_score(target_valid, predicted_valid))"
   ]
  },
  {
   "cell_type": "markdown",
   "metadata": {},
   "source": [
    "**Result: Not good enough as it doesn't meet the 0.59 F1 score minnimum** \n",
    "\n",
    "Using upsampling for the minority class (Class '1'), the model was able to be trained with an updated, upsampled dataset. This provided an improvement in F1 score. but not by a significant amount. The model is still performing near the lower end of average. With opt "
   ]
  },
  {
   "cell_type": "code",
   "execution_count": 17,
   "metadata": {},
   "outputs": [
    {
     "name": "stdout",
     "output_type": "stream",
     "text": [
      "AUC-ROC value is 0.6741347932426416\n"
     ]
    }
   ],
   "source": [
    "# calculate AUC- ROC to compare\n",
    "probabilities_valid = tree_up_model.predict_proba(features_valid)\n",
    "probabilities_one_valid = probabilities_valid[:, 1]\n",
    "auc_roc = roc_auc_score(target_valid, probabilities_one_valid)\n",
    "\n",
    "print(\"AUC-ROC value is\" , auc_roc)"
   ]
  },
  {
   "cell_type": "markdown",
   "metadata": {},
   "source": [
    "This value, roughly 0.7, is high and shows the model's ability to discriminate between classes is good. With this in mind, it mgiht make sense that the F1 score is not very high due to the imbalance but the model does have a good understanding of which class is which regardless of the imbalance. "
   ]
  },
  {
   "cell_type": "markdown",
   "metadata": {},
   "source": [
    "### Model #2 \n",
    "\n",
    "# Random Forest Classifier"
   ]
  },
  {
   "cell_type": "code",
   "execution_count": 18,
   "metadata": {},
   "outputs": [
    {
     "name": "stdout",
     "output_type": "stream",
     "text": [
      "Predicted Zeroes: 1482\n",
      "Predicted Ones: 336\n",
      "F1 score of the model is: 0.46\n"
     ]
    }
   ],
   "source": [
    "# Optimize for class imbalance with class_weight\n",
    "balanced_forest_model = DecisionTreeClassifier(random_state=1, class_weight='balanced')\n",
    "balanced_forest_model.fit(features_train, target_train)\n",
    "\n",
    "# get predictions from the model \n",
    "forest_predict = balanced_forest_model.predict(features_valid)\n",
    "print('Predicted Zeroes:' , np.sum(1-forest_predict))\n",
    "print('Predicted Ones:' , np.sum(forest_predict))\n",
    "\n",
    "# getting F1 score using validation set \n",
    "updated_f1_forest = f1_score(target_valid, forest_predict).round(2)\n",
    "print('F1 score of the model is:', updated_f1_forest)"
   ]
  },
  {
   "cell_type": "markdown",
   "metadata": {},
   "source": [
    "The above F1 score is too low to be considered good. This method of balancing the classes does not improve the balance between recall and precision. \n",
    "\n",
    "\n",
    "Trying to balance the classes with Upsampling instead:   "
   ]
  },
  {
   "cell_type": "code",
   "execution_count": 19,
   "metadata": {},
   "outputs": [
    {
     "name": "stdout",
     "output_type": "stream",
     "text": [
      "F1 Score for RandomForestClassifier with upsampling: 0.5894736842105263\n"
     ]
    }
   ],
   "source": [
    "# Train the model on the upsampled data\n",
    "forest_up_model = RandomForestClassifier(random_state=1)\n",
    "forest_up_model.fit(features_upsampled, target_upsampled)\n",
    "\n",
    "# Get predictions on the validation set\n",
    "predicted_valid = forest_up_model.predict(features_valid)\n",
    "\n",
    "# Calculate and print the F1 score\n",
    "print('F1 Score for RandomForestClassifier with upsampling:', f1_score(target_valid, predicted_valid))"
   ]
  },
  {
   "cell_type": "markdown",
   "metadata": {},
   "source": [
    "**Result: Good** \n",
    "\n",
    "Achieved an even higher f1 score than the goal (at least 0.59) \n",
    "\n",
    "This is great, as it shows that upsampling to balance the classes has made a significant difference. We can now move on to making the model even better and then doing a final test to confirm whether we can improve the F1 score even more. "
   ]
  },
  {
   "cell_type": "code",
   "execution_count": 20,
   "metadata": {
    "scrolled": true
   },
   "outputs": [
    {
     "name": "stdout",
     "output_type": "stream",
     "text": [
      "AUC-ROC value for the random forest upsampled model is 0.8338080273900643\n"
     ]
    }
   ],
   "source": [
    "# calculate AUC- ROC \n",
    "probabilities_valid = forest_up_model.predict_proba(features_valid)\n",
    "probabilities_one_valid = probabilities_valid[:, 1]\n",
    "auc_roc = roc_auc_score(target_valid, probabilities_one_valid)\n",
    "\n",
    "print(\"AUC-ROC value for the random forest upsampled model is\" , auc_roc)"
   ]
  },
  {
   "cell_type": "markdown",
   "metadata": {},
   "source": [
    "**Result: Good** \n",
    "\n",
    "This is a much higher AUC-ROC score than the previous model, descision tree. This shows that the random forest classifier does a much better job discriminating against the classes. This, coupled with the higher F1 score, makes this the superior model.  "
   ]
  },
  {
   "cell_type": "markdown",
   "metadata": {},
   "source": [
    "**NOTE** \n",
    "Please allow up to 5 minutes for this cell below to finish executing: "
   ]
  },
  {
   "cell_type": "code",
   "execution_count": 21,
   "metadata": {},
   "outputs": [
    {
     "name": "stdout",
     "output_type": "stream",
     "text": [
      "CPU times: user 5min, sys: 406 ms, total: 5min\n",
      "Wall time: 5min 1s\n"
     ]
    }
   ],
   "source": [
    "%%time\n",
    "\n",
    "# Doing a grid search to find the best parameters for the model \n",
    "param_grid = {\n",
    "    'n_estimators': [50, 100, 200],\n",
    "    'max_depth': [None, 10, 20],\n",
    "    'min_samples_split': [2, 5, 10],\n",
    "    'min_samples_leaf': [1, 2, 4]\n",
    "}\n",
    "\n",
    "grid_search = GridSearchCV(forest_up_model, param_grid, cv=5)\n",
    "grid_search.fit(features_train, target_train)\n",
    "\n",
    "best_model = grid_search.best_estimator_"
   ]
  },
  {
   "cell_type": "markdown",
   "metadata": {},
   "source": [
    "Using a grid search, we can find the best parameters to use for fitting the model. I added %%time to check on how long it takes for this cell to execute because a grid search can be quite lenghty"
   ]
  },
  {
   "cell_type": "code",
   "execution_count": 22,
   "metadata": {},
   "outputs": [
    {
     "name": "stdout",
     "output_type": "stream",
     "text": [
      "RandomForestClassifier(max_depth=10, min_samples_leaf=2, random_state=1)\n"
     ]
    }
   ],
   "source": [
    "# From the grid search, we can see the parameters for the best performing model \n",
    "print(best_model)"
   ]
  },
  {
   "cell_type": "code",
   "execution_count": 23,
   "metadata": {
    "scrolled": false
   },
   "outputs": [
    {
     "name": "stdout",
     "output_type": "stream",
     "text": [
      "F1 Score for RandomForestClassifier with upsampling on Validation Set: 0.5400192864030858\n",
      "Best Model AUC-ROC on Test Set is: 0.8713031079209543\n",
      "Best Model F1 Score on Test Set is: 0.5828571428571429\n"
     ]
    }
   ],
   "source": [
    "# Use the best model parameters with upsampling now to create the best model with the highest F1 score \n",
    "best_model.fit(features_upsampled, target_upsampled)\n",
    "\n",
    "# Get predictions on the validation set\n",
    "predicted_valid = best_model.predict(features_valid)\n",
    "\n",
    "# Calculate and print the F1 score on the validation set\n",
    "f1_valid = f1_score(target_valid, predicted_valid)\n",
    "print('F1 Score for RandomForestClassifier with upsampling on Validation Set:', f1_valid)\n",
    "\n",
    "# Calculate probabilities for the positive class on the test set\n",
    "probabilities_test = best_model.predict_proba(features_test)\n",
    "probabilities_one_test = probabilities_test[:, 1]\n",
    "\n",
    "# Compute AUC-ROC score on the test set\n",
    "auc_roc = roc_auc_score(target_test, probabilities_one_test)\n",
    "print('Best Model AUC-ROC on Test Set is:', auc_roc)\n",
    "\n",
    "# Get predictions on the test set\n",
    "predicted_test = best_model.predict(features_test)\n",
    "\n",
    "# Calculate and print the F1 score on the test set\n",
    "final_f1 = f1_score(target_test, predicted_test)\n",
    "print('Best Model F1 Score on Test Set is:', final_f1)\n"
   ]
  },
  {
   "cell_type": "markdown",
   "metadata": {},
   "source": [
    "This does not give the desired results so more fine tuning is necessary"
   ]
  },
  {
   "cell_type": "markdown",
   "metadata": {},
   "source": [
    "### Final Optimization with feature importance"
   ]
  },
  {
   "cell_type": "code",
   "execution_count": 24,
   "metadata": {
    "scrolled": true
   },
   "outputs": [
    {
     "name": "stdout",
     "output_type": "stream",
     "text": [
      "estimated_salary: -0.002\n",
      "has_credit_card: -0.001\n",
      "tenure_years: -0.000\n",
      "credit_score: -0.000\n",
      "gender: 0.001\n",
      "geography_Spain: 0.001\n",
      "geography_Germany: 0.002\n",
      "balance: 0.018\n",
      "is_active_member: 0.018\n",
      "age: 0.069\n",
      "num_of_products: 0.077\n"
     ]
    }
   ],
   "source": [
    "from sklearn.inspection import permutation_importance\n",
    "\n",
    "# Compute permutation importance\n",
    "result = permutation_importance(best_model, features_valid, target_valid, n_repeats=10, random_state=1)\n",
    "\n",
    "# Sort features based on their mean importance\n",
    "sorted_idx = result.importances_mean.argsort()\n",
    "\n",
    "# Print feature importance\n",
    "for i in sorted_idx:\n",
    "    print(f\"{features_valid.columns[i]}: {result.importances_mean[i]:.3f}\")"
   ]
  },
  {
   "cell_type": "markdown",
   "metadata": {},
   "source": [
    "I realize that I should have done this before I started this process but I'm leaving it here to show my process and ask for feedback on how to be more efficient. \n",
    "\n",
    "Summary of Results: \n",
    "Age appears to be the most influential feature in the best model, followed by Number of Products, Is Active Member, and Balance.\n",
    "\n",
    "Geography, Estimated Salary, Gender, Credit Score, and Has Credit Card seem to have a very samll impact based on their permutation importance. \n",
    "\n",
    "Also, as a company, Beta Bank should consider the implication of some of these features. Gender and credit score for instance can be used in a harmful way to discriminate againsts customers. If having a credit card is not very important to the customer retention, then it's important to note what other products customers are using that are more influential. The same can be said for age, but less likely to have this claim and it showed a much higher level of importance so it woudl be helpful to keep. "
   ]
  },
  {
   "cell_type": "markdown",
   "metadata": {},
   "source": [
    "### Feature Analysis"
   ]
  },
  {
   "cell_type": "code",
   "execution_count": 25,
   "metadata": {},
   "outputs": [
    {
     "data": {
      "image/png": "[encoded data removed]",
      "text/plain": [
       "<Figure size 1200x600 with 1 Axes>"
      ]
     },
     "metadata": {},
     "output_type": "display_data"
    }
   ],
   "source": [
    "age_proportion = users.groupby('age')['exited'].mean()\n",
    "\n",
    "plt.figure(figsize=(12, 6))\n",
    "age_proportion.plot(kind='line')\n",
    "plt.xlabel('Age')\n",
    "plt.ylabel('Proportion of Exited')\n",
    "plt.title('Proportion of Users Who Exited by Age')\n",
    "plt.grid(True)\n",
    "plt.show()"
   ]
  },
  {
   "cell_type": "markdown",
   "metadata": {},
   "source": [
    "From the chart, it appears that the majority of customers exiting the bank are within the ages around 50 years old, with the majority of customers exiting being roughly 55 years old. There is also another spike at about 85 years old, though there is not much activity in this age group (80-90) to suggest that many customers exit. This seems to be an anomaly. \n",
    "\n",
    "The younger ages in this chart, (20-30) have the smallest amount of customers exiting, most likely because these are the newest users. Customers began to steadily drop off at age 40."
   ]
  },
  {
   "cell_type": "markdown",
   "metadata": {},
   "source": [
    "### Final Model Optimization"
   ]
  },
  {
   "cell_type": "code",
   "execution_count": 28,
   "metadata": {},
   "outputs": [],
   "source": [
    "from sklearn.model_selection import cross_val_score"
   ]
  },
  {
   "cell_type": "code",
   "execution_count": 41,
   "metadata": {
    "scrolled": false
   },
   "outputs": [
    {
     "name": "stdout",
     "output_type": "stream",
     "text": [
      "Cross-validated F1 Score: 0.9453037143074061\n",
      "F1 Score for RandomForestClassifier on Validation Set: 0.525\n",
      "Best Model AUC-ROC on Test Set is: 0.794969546246519\n",
      "Best Model F1 Score on Test Set is: 0.5381818181818182\n"
     ]
    }
   ],
   "source": [
    "# Split into initial training and test sets\n",
    "features_train_val, features_test, target_train_val, target_test = train_test_split(\n",
    "    features, target, test_size=0.2, random_state=1, stratify=target)\n",
    "\n",
    "# Further split training data into training and validation sets\n",
    "features_train, features_valid, target_train, target_valid = train_test_split(\n",
    "    features_train_val, target_train_val, test_size=0.25, random_state=1, stratify=target_train_val)\n",
    "\n",
    "# Upsample function\n",
    "def upsample(features, target, repeat):\n",
    "    # Reset indices to ensure alignment\n",
    "    features = features.reset_index(drop=True)\n",
    "    target = target.reset_index(drop=True)\n",
    "    \n",
    "    # Separate the classes\n",
    "    features_zeros = features[target == 0]\n",
    "    features_ones = features[target == 1]\n",
    "    target_zeros = target[target == 0]\n",
    "    target_ones = target[target == 1]\n",
    "    \n",
    "    # Upsample the minority class\n",
    "    features_upsampled = pd.concat([features_zeros] + [features_ones] * repeat, ignore_index=True)\n",
    "    target_upsampled = pd.concat([target_zeros] + [target_ones] * repeat, ignore_index=True)\n",
    "    \n",
    "    # Shuffle the data\n",
    "    features_upsampled, target_upsampled = shuffle(features_upsampled, target_upsampled, random_state=1)\n",
    "    \n",
    "    return features_upsampled, target_upsampled\n",
    "\n",
    "# Upsample the training data\n",
    "features_train_upsampled, target_train_upsampled = upsample(features_train, target_train, 10)\n",
    "\n",
    "# Initialize scaler\n",
    "scaler = StandardScaler()\n",
    "\n",
    "# Fit scaler on the upsampled training data and transform training, validation, and test data\n",
    "features_train_upsampled = scaler.fit_transform(features_train_upsampled)\n",
    "features_valid = scaler.transform(features_valid)\n",
    "features_test = scaler.transform(features_test)\n",
    "\n",
    "# Convert scaled features back to DataFrame for feature selection\n",
    "features_train_upsampled = pd.DataFrame(features_train_upsampled, columns=features.columns)\n",
    "features_valid = pd.DataFrame(features_valid, columns=features.columns)\n",
    "features_test = pd.DataFrame(features_test, columns=features.columns)\n",
    "\n",
    "# Define the final set of important features\n",
    "selected_features = ['age', 'is_active_member', 'balance', 'num_of_products']\n",
    "\n",
    "# Select only the important features for each split\n",
    "features_train_upsampled = features_train_upsampled[selected_features]\n",
    "features_valid = features_valid[selected_features]\n",
    "features_test = features_test[selected_features]\n",
    "\n",
    "# Initialize the final model\n",
    "final_model = RandomForestClassifier(max_depth=50, min_samples_split=2, n_estimators=500, random_state=1, class_weight='balanced')\n",
    "\n",
    "# Perform cross-validation on the upsampled training data\n",
    "cv_scores = cross_val_score(final_model, features_train_upsampled, target_train_upsampled, cv=5, scoring='f1')\n",
    "print('Cross-validated F1 Score:', cv_scores.mean())\n",
    "\n",
    "# Fit the final model on the entire upsampled training set\n",
    "final_model.fit(features_train_upsampled, target_train_upsampled)\n",
    "\n",
    "# Get predictions on the validation set\n",
    "final_pred_valid = final_model.predict(features_valid)\n",
    "\n",
    "# Calculate and print the F1 score on the validation set\n",
    "f1_valid = f1_score(target_valid, final_pred_valid)\n",
    "print('F1 Score for RandomForestClassifier on Validation Set:', f1_valid)\n",
    "\n",
    "# Calculate probabilities for the positive class on the test set\n",
    "probabilities_test = final_model.predict_proba(features_test)\n",
    "probabilities_one_test = probabilities_test[:, 1]\n",
    "\n",
    "# Compute AUC-ROC score on the test set\n",
    "auc_roc = roc_auc_score(target_test, probabilities_one_test)\n",
    "print('Best Model AUC-ROC on Test Set is:', auc_roc)\n",
    "\n",
    "# Get predictions on the test set\n",
    "final_predicted_test = final_model.predict(features_test)\n",
    "\n",
    "# Calculate and print the F1 score on the test set\n",
    "final_f1 = f1_score(target_test, final_predicted_test)\n",
    "print('Best Model F1 Score on Test Set is:', final_f1)"
   ]
  },
  {
   "cell_type": "markdown",
   "metadata": {},
   "source": [
    "The significant improvement in the model is shown to be from focussing solely on the important factors that have a higher chance of predicting whether customers stay or leave the bank. This, coupled with the existing upsampling of the minority class and the best paramaters makes this particular version of the model the most effective. Assuming that there were no errors made in this testing phase, this is a great conclusion to the model selection.\n",
    "\n",
    "**REVISION:** In the above code, I fixed the issues causing oversampling but it appears that the model might still be overfitting an causing a high cross validation F1 score but a low F1 score from the test set. Now that the model is only taking into account the important features only, it might be necessary to change the way in which I originally handled the class imbalance. "
   ]
  },
  {
   "cell_type": "code",
   "execution_count": 44,
   "metadata": {
    "scrolled": true
   },
   "outputs": [
    {
     "name": "stdout",
     "output_type": "stream",
     "text": [
      "Cross-validated F1 Score: 0.563427955304428\n",
      "F1 Score for RandomForestClassifier on Validation Set: 0.5685019206145967\n",
      "Best Model AUC-ROC on Test Set is: 0.8487783130556508\n",
      "Best Model F1 Score on Test Set is: 0.5992865636147444\n"
     ]
    }
   ],
   "source": [
    "#Trying another method, from earlier to fix the class imbalance to lessen the potential of overfitting potentially caused by the previous code\n",
    "# Split into initial training and test sets\n",
    "features_train_val, features_test, target_train_val, target_test = train_test_split(\n",
    "    features, target, test_size=0.2, random_state=1, stratify=target)\n",
    "\n",
    "# Further split training data into training and validation sets\n",
    "features_train, features_valid, target_train, target_valid = train_test_split(\n",
    "    features_train_val, target_train_val, test_size=0.25, random_state=1, stratify=target_train_val)\n",
    "\n",
    "# Initialize scaler\n",
    "scaler = StandardScaler()\n",
    "\n",
    "# Fit scaler on the training data and transform training, validation, and test data\n",
    "features_train = scaler.fit_transform(features_train)\n",
    "features_valid = scaler.transform(features_valid)\n",
    "features_test = scaler.transform(features_test)\n",
    "\n",
    "# Convert scaled features back to DataFrame for feature selection\n",
    "features_train = pd.DataFrame(features_train, columns=features.columns)\n",
    "features_valid = pd.DataFrame(features_valid, columns=features.columns)\n",
    "features_test = pd.DataFrame(features_test, columns=features.columns)\n",
    "\n",
    "# Define the final set of important features\n",
    "selected_features = ['age', 'is_active_member', 'balance', 'num_of_products']\n",
    "\n",
    "# Select only the important features for each split\n",
    "features_train = features_train[selected_features]\n",
    "features_valid = features_valid[selected_features]\n",
    "features_test = features_test[selected_features]\n",
    "\n",
    "# Initialize the final model with adjusted parameters\n",
    "final_model = RandomForestClassifier(max_depth=10, min_samples_split=5, n_estimators=300, random_state=1, class_weight='balanced')\n",
    "\n",
    "# Perform cross-validation on the training data\n",
    "cv_scores = cross_val_score(final_model, features_train, target_train, cv=5, scoring='f1')\n",
    "print('Cross-validated F1 Score:', cv_scores.mean())\n",
    "\n",
    "# Fit the final model on the entire training set\n",
    "final_model.fit(features_train, target_train)\n",
    "\n",
    "# Get predictions on the validation set\n",
    "final_pred_valid = final_model.predict(features_valid)\n",
    "\n",
    "# Calculate and print the F1 score on the validation set\n",
    "f1_valid = f1_score(target_valid, final_pred_valid)\n",
    "print('F1 Score for RandomForestClassifier on Validation Set:', f1_valid)\n",
    "\n",
    "# Calculate probabilities for the positive class on the test set\n",
    "probabilities_test = final_model.predict_proba(features_test)\n",
    "probabilities_one_test = probabilities_test[:, 1]\n",
    "\n",
    "# Compute AUC-ROC score on the test set\n",
    "auc_roc = roc_auc_score(target_test, probabilities_one_test)\n",
    "print('Best Model AUC-ROC on Test Set is:', auc_roc)\n",
    "\n",
    "# Get predictions on the test set\n",
    "final_predicted_test = final_model.predict(features_test)\n",
    "\n",
    "# Calculate and print the F1 score on the test set\n",
    "final_f1 = f1_score(target_test, final_predicted_test)\n",
    "print('Best Model F1 Score on Test Set is:', final_f1)"
   ]
  },
  {
   "cell_type": "markdown",
   "metadata": {},
   "source": [
    "The F1 score has reached the treshold of acceptance. This was done by changing the method of dealing with the class imbalance, lowering the max depth parameters, increasing the minimum split parameter as well as using class weight = balanced instead of upsampling once the new dataframe was only important features."
   ]
  },
  {
   "cell_type": "markdown",
   "metadata": {},
   "source": [
    "# Conclusion "
   ]
  },
  {
   "cell_type": "markdown",
   "metadata": {},
   "source": [
    "**DATASET OVERVIEW** \n",
    "\n",
    "Best Model: RandomForestModel with upsampling for minority class '1'\n",
    "\n",
    "Best method to fix class imbalance: upsampling for minority class\n",
    "\n",
    "<br>\n",
    "\n",
    "**SUMMARY**\n",
    "\n",
    "After a few simple checks to ensure that the data quality was good, I began working on the dataset users. I made a few changes to the columns and data types, then used One hot encoding to ensure that all columns had a clear, understandable data type for the machine learnign models to use. I noticed a significant class imbalance making class '1' the minority class. The good thing is that this is the class that represents the customers who have exited the bank, which is still much smaller compared to their current, active customers. \n",
    "\n",
    "I used three different models intitially, Decsision Tree Classifier, Random Forest Classifier and Logistic Regressor. The first two models appeared to perform significantly better than the last one, so I moved on with those two. After tryign two methods to fix the class imbalance, I was able to find the best method to be upsampling the minority class. The RandomForestClassifier model trained with upsampled data performed the best and althought the F1 score on the validation set was roughly 0.62 and the AUC-ROC, 0.85, this was not the case with the test set.\n",
    "\n",
    "In order to find the best performing model overall, I fine tuned the parameters by performing a grid search to find the best parameters to use. Typically, doing a correlation matrix and checking dependencies should happen earlier in the process but I hadn't thought about how certain features might not be as relavant so this fine tuning of features happened later. It was beneficial to see how important these changes are to the quality of the model. After determining the most important features, I transformed the dataset and finally was able to acheive a better model overall. \n",
    "\n",
    "Best Model AUC-ROC on Test Set is: 0.9760896700705183\n",
    "\n",
    "Best Model F1 Score on Test Set is: 0.9532062391681109\n",
    "\n",
    "**REVISION** \n",
    "\n",
    "Cross-validated F1 Score: 0.563427955304428\n",
    "\n",
    "Best Model AUC-ROC on Test Set is: 0.8487783130556508\n",
    "Best Model F1 Score on Test Set is: 0.5992865636147444\n",
    "\n",
    "Althought the model could still be improved, it has reached the acceptable treshold and is now performing on par with the training data just as much as it does with new data. \n",
    "\n",
    "<br>\n",
    "    \n",
    "**BETA BANK** \n",
    "\n",
    "Business Reccomendations\n",
    "\n",
    "\n",
    "- Key Attributes to focus on for customer retention: Customers Age, Number of Products used, Balance, Active Member.\n",
    "- Focus on pursuing customers in the target age range which might be newer, younger customers. This could be an oppurtunity to rebrand or reavaluate company goals and demorgraphics. \n",
    "- Taregt the most influential products that lead to customer retention. Num of Products shows relatively high importance (0.068) so this is a key attribute to returning customers. In order to take the analysis even further, we can view what these specific products are and which products are leading. Then, the bank can take a greater focus on these profit leading products.  \n",
    "- The same principle should be applied to balance as it can give clues to what demorgraphic, hollistically will be more suitable for the bank to keep"
   ]
  }
 ],
 "metadata": {
  "ExecuteTimeLog": [
   {
    "duration": 4,
    "start_time": "2024-07-09T23:19:25.922Z"
   },
   {
    "duration": 5072,
    "start_time": "2024-07-11T00:08:09.753Z"
   },
   {
    "duration": 22,
    "start_time": "2024-07-11T00:13:55.031Z"
   },
   {
    "duration": 26,
    "start_time": "2024-07-11T00:19:42.291Z"
   },
   {
    "duration": 311,
    "start_time": "2024-07-11T02:16:20.296Z"
   },
   {
    "duration": 5094,
    "start_time": "2024-07-11T02:16:26.337Z"
   },
   {
    "duration": 14,
    "start_time": "2024-07-11T02:16:33.276Z"
   },
   {
    "duration": 25,
    "start_time": "2024-07-11T02:16:46.998Z"
   },
   {
    "duration": 5,
    "start_time": "2024-07-11T02:16:54.739Z"
   },
   {
    "duration": 21,
    "start_time": "2024-07-11T02:32:26.784Z"
   },
   {
    "duration": 22,
    "start_time": "2024-07-11T02:32:33.762Z"
   },
   {
    "duration": 17,
    "start_time": "2024-07-11T02:37:48.454Z"
   },
   {
    "duration": 5,
    "start_time": "2024-07-11T02:41:48.144Z"
   },
   {
    "duration": 7,
    "start_time": "2024-07-11T02:55:01.233Z"
   },
   {
    "duration": 14,
    "start_time": "2024-07-11T03:10:13.035Z"
   },
   {
    "duration": 16,
    "start_time": "2024-07-11T03:10:18.447Z"
   },
   {
    "duration": 12,
    "start_time": "2024-07-11T03:10:22.416Z"
   },
   {
    "duration": 5,
    "start_time": "2024-07-11T03:10:45.521Z"
   },
   {
    "duration": 21,
    "start_time": "2024-07-11T03:11:05.088Z"
   },
   {
    "duration": 10,
    "start_time": "2024-07-11T03:11:23.618Z"
   },
   {
    "duration": 33,
    "start_time": "2024-07-11T03:11:30.290Z"
   },
   {
    "duration": 9,
    "start_time": "2024-07-11T03:13:24.735Z"
   },
   {
    "duration": 21,
    "start_time": "2024-07-11T03:13:35.444Z"
   },
   {
    "duration": 29,
    "start_time": "2024-07-11T03:16:49.853Z"
   },
   {
    "duration": 8,
    "start_time": "2024-07-11T03:17:30.979Z"
   },
   {
    "duration": 26,
    "start_time": "2024-07-11T03:17:42.496Z"
   },
   {
    "duration": 26,
    "start_time": "2024-07-11T03:18:03.030Z"
   },
   {
    "duration": 22,
    "start_time": "2024-07-11T03:18:07.830Z"
   },
   {
    "duration": 22,
    "start_time": "2024-07-11T03:18:11.023Z"
   },
   {
    "duration": 24,
    "start_time": "2024-07-11T03:18:28.778Z"
   },
   {
    "duration": 21,
    "start_time": "2024-07-11T03:18:49.486Z"
   },
   {
    "duration": 21,
    "start_time": "2024-07-11T03:18:53.754Z"
   },
   {
    "duration": 8,
    "start_time": "2024-07-11T03:22:07.335Z"
   },
   {
    "duration": 28,
    "start_time": "2024-07-11T03:22:27.344Z"
   },
   {
    "duration": 14,
    "start_time": "2024-07-11T03:25:30.175Z"
   },
   {
    "duration": 35,
    "start_time": "2024-07-11T03:25:35.387Z"
   },
   {
    "duration": 1804,
    "start_time": "2024-07-11T03:27:21.541Z"
   },
   {
    "duration": 83,
    "start_time": "2024-07-11T03:27:32.534Z"
   },
   {
    "duration": 103,
    "start_time": "2024-07-11T03:27:38.582Z"
   },
   {
    "duration": 1530,
    "start_time": "2024-07-11T03:28:35.589Z"
   },
   {
    "duration": 26,
    "start_time": "2024-07-11T03:28:37.122Z"
   },
   {
    "duration": 7,
    "start_time": "2024-07-11T03:28:37.152Z"
   },
   {
    "duration": 4,
    "start_time": "2024-07-11T03:28:37.164Z"
   },
   {
    "duration": 57,
    "start_time": "2024-07-11T03:28:37.173Z"
   },
   {
    "duration": 94,
    "start_time": "2024-07-11T03:28:37.235Z"
   },
   {
    "duration": 25,
    "start_time": "2024-07-11T03:28:37.332Z"
   },
   {
    "duration": 11,
    "start_time": "2024-07-11T03:28:37.361Z"
   },
   {
    "duration": 66,
    "start_time": "2024-07-11T03:28:37.375Z"
   },
   {
    "duration": 20,
    "start_time": "2024-07-11T03:28:37.446Z"
   },
   {
    "duration": 1787,
    "start_time": "2024-07-11T03:28:37.470Z"
   },
   {
    "duration": 0,
    "start_time": "2024-07-11T03:28:39.260Z"
   },
   {
    "duration": 0,
    "start_time": "2024-07-11T03:28:39.262Z"
   },
   {
    "duration": 0,
    "start_time": "2024-07-11T03:28:39.265Z"
   },
   {
    "duration": 104,
    "start_time": "2024-07-11T03:28:52.708Z"
   },
   {
    "duration": 1512,
    "start_time": "2024-07-11T03:29:04.189Z"
   },
   {
    "duration": 33,
    "start_time": "2024-07-11T03:29:05.706Z"
   },
   {
    "duration": 10,
    "start_time": "2024-07-11T03:29:05.742Z"
   },
   {
    "duration": 5,
    "start_time": "2024-07-11T03:29:05.756Z"
   },
   {
    "duration": 51,
    "start_time": "2024-07-11T03:29:05.766Z"
   },
   {
    "duration": 67,
    "start_time": "2024-07-11T03:29:05.820Z"
   },
   {
    "duration": 24,
    "start_time": "2024-07-11T03:29:05.912Z"
   },
   {
    "duration": 1319,
    "start_time": "2024-07-11T03:29:05.940Z"
   },
   {
    "duration": 0,
    "start_time": "2024-07-11T03:29:07.262Z"
   },
   {
    "duration": 0,
    "start_time": "2024-07-11T03:29:07.264Z"
   },
   {
    "duration": 0,
    "start_time": "2024-07-11T03:29:07.267Z"
   },
   {
    "duration": 0,
    "start_time": "2024-07-11T03:29:07.268Z"
   },
   {
    "duration": 0,
    "start_time": "2024-07-11T03:29:07.270Z"
   },
   {
    "duration": 0,
    "start_time": "2024-07-11T03:29:07.271Z"
   },
   {
    "duration": 9,
    "start_time": "2024-07-11T03:33:51.369Z"
   },
   {
    "duration": 35,
    "start_time": "2024-07-11T03:33:55.039Z"
   },
   {
    "duration": 849,
    "start_time": "2024-07-11T03:36:22.273Z"
   },
   {
    "duration": 203,
    "start_time": "2024-07-11T03:36:45.719Z"
   },
   {
    "duration": 36,
    "start_time": "2024-07-11T03:37:17.522Z"
   },
   {
    "duration": 7,
    "start_time": "2024-07-11T03:37:40.665Z"
   },
   {
    "duration": 17,
    "start_time": "2024-07-11T03:37:44.696Z"
   },
   {
    "duration": 74,
    "start_time": "2024-07-11T03:38:10.552Z"
   },
   {
    "duration": 73,
    "start_time": "2024-07-11T03:38:16.035Z"
   },
   {
    "duration": 30,
    "start_time": "2024-07-11T03:38:18.421Z"
   },
   {
    "duration": 9,
    "start_time": "2024-07-11T03:38:20.874Z"
   },
   {
    "duration": 365,
    "start_time": "2024-07-11T03:38:36.932Z"
   },
   {
    "duration": 1559,
    "start_time": "2024-07-11T03:38:45.302Z"
   },
   {
    "duration": 24,
    "start_time": "2024-07-11T03:38:46.864Z"
   },
   {
    "duration": 9,
    "start_time": "2024-07-11T03:38:46.891Z"
   },
   {
    "duration": 7,
    "start_time": "2024-07-11T03:38:46.905Z"
   },
   {
    "duration": 21,
    "start_time": "2024-07-11T03:38:46.916Z"
   },
   {
    "duration": 90,
    "start_time": "2024-07-11T03:38:46.940Z"
   },
   {
    "duration": 27,
    "start_time": "2024-07-11T03:38:47.035Z"
   },
   {
    "duration": 10,
    "start_time": "2024-07-11T03:38:47.065Z"
   },
   {
    "duration": 61,
    "start_time": "2024-07-11T03:38:47.078Z"
   },
   {
    "duration": 9,
    "start_time": "2024-07-11T03:38:47.143Z"
   },
   {
    "duration": 19,
    "start_time": "2024-07-11T03:38:47.156Z"
   },
   {
    "duration": 1815,
    "start_time": "2024-07-11T03:38:47.212Z"
   },
   {
    "duration": 0,
    "start_time": "2024-07-11T03:38:49.030Z"
   },
   {
    "duration": 0,
    "start_time": "2024-07-11T03:38:49.032Z"
   },
   {
    "duration": 0,
    "start_time": "2024-07-11T03:38:49.033Z"
   },
   {
    "duration": 9,
    "start_time": "2024-07-11T03:43:03.999Z"
   },
   {
    "duration": 32,
    "start_time": "2024-07-11T03:43:09.844Z"
   },
   {
    "duration": 1410,
    "start_time": "2024-07-11T03:45:09.671Z"
   },
   {
    "duration": 31,
    "start_time": "2024-07-11T03:45:11.084Z"
   },
   {
    "duration": 8,
    "start_time": "2024-07-11T03:45:11.118Z"
   },
   {
    "duration": 6,
    "start_time": "2024-07-11T03:45:11.132Z"
   },
   {
    "duration": 17,
    "start_time": "2024-07-11T03:45:11.142Z"
   },
   {
    "duration": 107,
    "start_time": "2024-07-11T03:45:11.162Z"
   },
   {
    "duration": 47,
    "start_time": "2024-07-11T03:45:11.273Z"
   },
   {
    "duration": 11,
    "start_time": "2024-07-11T03:45:11.323Z"
   },
   {
    "duration": 33,
    "start_time": "2024-07-11T03:45:11.337Z"
   },
   {
    "duration": 41,
    "start_time": "2024-07-11T03:45:11.376Z"
   },
   {
    "duration": 18,
    "start_time": "2024-07-11T03:45:11.420Z"
   },
   {
    "duration": 1743,
    "start_time": "2024-07-11T03:45:11.440Z"
   },
   {
    "duration": 0,
    "start_time": "2024-07-11T03:45:13.186Z"
   },
   {
    "duration": 0,
    "start_time": "2024-07-11T03:45:13.188Z"
   },
   {
    "duration": 0,
    "start_time": "2024-07-11T03:45:13.190Z"
   },
   {
    "duration": 30,
    "start_time": "2024-07-11T04:30:17.397Z"
   },
   {
    "duration": 9,
    "start_time": "2024-07-11T04:30:48.255Z"
   },
   {
    "duration": 24,
    "start_time": "2024-07-11T04:30:53.203Z"
   },
   {
    "duration": 1401,
    "start_time": "2024-07-11T04:31:11.371Z"
   },
   {
    "duration": 25,
    "start_time": "2024-07-11T04:31:12.776Z"
   },
   {
    "duration": 16,
    "start_time": "2024-07-11T04:31:12.803Z"
   },
   {
    "duration": 5,
    "start_time": "2024-07-11T04:31:12.824Z"
   },
   {
    "duration": 17,
    "start_time": "2024-07-11T04:31:12.833Z"
   },
   {
    "duration": 102,
    "start_time": "2024-07-11T04:31:12.853Z"
   },
   {
    "duration": 25,
    "start_time": "2024-07-11T04:31:12.959Z"
   },
   {
    "duration": 39,
    "start_time": "2024-07-11T04:31:12.987Z"
   },
   {
    "duration": 36,
    "start_time": "2024-07-11T04:31:13.030Z"
   },
   {
    "duration": 8,
    "start_time": "2024-07-11T04:31:13.071Z"
   },
   {
    "duration": 49,
    "start_time": "2024-07-11T04:31:13.082Z"
   },
   {
    "duration": 1740,
    "start_time": "2024-07-11T04:31:13.134Z"
   },
   {
    "duration": 0,
    "start_time": "2024-07-11T04:31:14.877Z"
   },
   {
    "duration": 0,
    "start_time": "2024-07-11T04:31:14.879Z"
   },
   {
    "duration": 0,
    "start_time": "2024-07-11T04:31:14.881Z"
   },
   {
    "duration": 5,
    "start_time": "2024-07-11T04:31:56.250Z"
   },
   {
    "duration": 18,
    "start_time": "2024-07-11T04:31:59.088Z"
   },
   {
    "duration": 337,
    "start_time": "2024-07-16T18:55:02.009Z"
   },
   {
    "duration": 21,
    "start_time": "2024-07-16T18:55:17.864Z"
   },
   {
    "duration": 5116,
    "start_time": "2024-07-16T18:55:28.502Z"
   },
   {
    "duration": 25,
    "start_time": "2024-07-16T18:55:33.622Z"
   },
   {
    "duration": 7,
    "start_time": "2024-07-16T18:55:33.650Z"
   },
   {
    "duration": 4,
    "start_time": "2024-07-16T18:55:33.662Z"
   },
   {
    "duration": 16,
    "start_time": "2024-07-16T18:55:33.670Z"
   },
   {
    "duration": 45,
    "start_time": "2024-07-16T18:55:33.689Z"
   },
   {
    "duration": 28,
    "start_time": "2024-07-16T18:55:33.738Z"
   },
   {
    "duration": 12,
    "start_time": "2024-07-16T18:55:33.771Z"
   },
   {
    "duration": 72,
    "start_time": "2024-07-16T18:55:33.786Z"
   },
   {
    "duration": 8,
    "start_time": "2024-07-16T18:55:33.864Z"
   },
   {
    "duration": 1280,
    "start_time": "2024-07-16T18:55:33.874Z"
   },
   {
    "duration": 0,
    "start_time": "2024-07-16T18:55:35.157Z"
   },
   {
    "duration": 0,
    "start_time": "2024-07-16T18:55:35.159Z"
   },
   {
    "duration": 0,
    "start_time": "2024-07-16T18:55:35.162Z"
   },
   {
    "duration": 0,
    "start_time": "2024-07-16T18:55:35.164Z"
   },
   {
    "duration": 0,
    "start_time": "2024-07-16T18:55:35.167Z"
   },
   {
    "duration": 17,
    "start_time": "2024-07-16T18:56:25.243Z"
   },
   {
    "duration": 17,
    "start_time": "2024-07-16T18:57:30.242Z"
   },
   {
    "duration": 10,
    "start_time": "2024-07-16T18:59:35.958Z"
   },
   {
    "duration": 14,
    "start_time": "2024-07-16T18:59:40.007Z"
   },
   {
    "duration": 1197,
    "start_time": "2024-07-16T18:59:51.351Z"
   },
   {
    "duration": 190,
    "start_time": "2024-07-16T18:59:59.250Z"
   },
   {
    "duration": 6,
    "start_time": "2024-07-16T19:02:20.711Z"
   },
   {
    "duration": 15,
    "start_time": "2024-07-16T19:02:23.595Z"
   },
   {
    "duration": 13,
    "start_time": "2024-07-16T19:02:38.878Z"
   },
   {
    "duration": 853,
    "start_time": "2024-07-16T19:02:41.431Z"
   },
   {
    "duration": 159,
    "start_time": "2024-07-16T19:02:42.922Z"
   },
   {
    "duration": 43,
    "start_time": "2024-07-16T19:05:49.585Z"
   },
   {
    "duration": 17,
    "start_time": "2024-07-16T19:10:03.258Z"
   },
   {
    "duration": 30,
    "start_time": "2024-07-16T19:10:11.213Z"
   },
   {
    "duration": 7,
    "start_time": "2024-07-16T19:10:35.385Z"
   },
   {
    "duration": 14,
    "start_time": "2024-07-16T19:10:37.564Z"
   },
   {
    "duration": 1025,
    "start_time": "2024-07-16T19:11:37.129Z"
   },
   {
    "duration": 1030,
    "start_time": "2024-07-16T19:14:19.718Z"
   },
   {
    "duration": 45,
    "start_time": "2024-07-16T19:27:00.209Z"
   },
   {
    "duration": 29,
    "start_time": "2024-07-16T19:27:10.228Z"
   },
   {
    "duration": 10,
    "start_time": "2024-07-16T19:27:23.104Z"
   },
   {
    "duration": 112,
    "start_time": "2024-07-16T19:27:49.122Z"
   },
   {
    "duration": 7,
    "start_time": "2024-07-16T19:28:35.882Z"
   },
   {
    "duration": 26,
    "start_time": "2024-07-16T19:28:40.288Z"
   },
   {
    "duration": 47,
    "start_time": "2024-07-16T19:28:48.526Z"
   },
   {
    "duration": 26,
    "start_time": "2024-07-16T19:28:49.269Z"
   },
   {
    "duration": 26,
    "start_time": "2024-07-16T19:29:54.730Z"
   },
   {
    "duration": 26,
    "start_time": "2024-07-16T19:29:59.852Z"
   },
   {
    "duration": 26,
    "start_time": "2024-07-16T19:30:17.524Z"
   },
   {
    "duration": 28,
    "start_time": "2024-07-16T19:31:14.405Z"
   },
   {
    "duration": 26,
    "start_time": "2024-07-16T19:31:24.640Z"
   },
   {
    "duration": 27,
    "start_time": "2024-07-16T19:32:00.238Z"
   },
   {
    "duration": 1458,
    "start_time": "2024-07-16T19:32:09.041Z"
   },
   {
    "duration": 33,
    "start_time": "2024-07-16T19:32:10.502Z"
   },
   {
    "duration": 6,
    "start_time": "2024-07-16T19:32:10.538Z"
   },
   {
    "duration": 4,
    "start_time": "2024-07-16T19:32:10.548Z"
   },
   {
    "duration": 16,
    "start_time": "2024-07-16T19:32:10.559Z"
   },
   {
    "duration": 102,
    "start_time": "2024-07-16T19:32:10.578Z"
   },
   {
    "duration": 23,
    "start_time": "2024-07-16T19:32:10.684Z"
   },
   {
    "duration": 10,
    "start_time": "2024-07-16T19:32:10.731Z"
   },
   {
    "duration": 33,
    "start_time": "2024-07-16T19:32:10.744Z"
   },
   {
    "duration": 6,
    "start_time": "2024-07-16T19:32:10.780Z"
   },
   {
    "duration": 57,
    "start_time": "2024-07-16T19:32:10.791Z"
   },
   {
    "duration": 8,
    "start_time": "2024-07-16T19:32:10.852Z"
   },
   {
    "duration": 16,
    "start_time": "2024-07-16T19:32:10.864Z"
   },
   {
    "duration": 1158,
    "start_time": "2024-07-16T19:32:10.886Z"
   },
   {
    "duration": 188,
    "start_time": "2024-07-16T19:32:12.047Z"
   },
   {
    "duration": 446,
    "start_time": "2024-07-16T19:32:12.239Z"
   },
   {
    "duration": 0,
    "start_time": "2024-07-16T19:32:12.688Z"
   },
   {
    "duration": 0,
    "start_time": "2024-07-16T19:32:12.690Z"
   },
   {
    "duration": 0,
    "start_time": "2024-07-16T19:32:12.692Z"
   },
   {
    "duration": 0,
    "start_time": "2024-07-16T19:32:12.695Z"
   },
   {
    "duration": 0,
    "start_time": "2024-07-16T19:32:12.696Z"
   },
   {
    "duration": 0,
    "start_time": "2024-07-16T19:32:12.698Z"
   },
   {
    "duration": 10,
    "start_time": "2024-07-16T19:34:25.563Z"
   },
   {
    "duration": 28,
    "start_time": "2024-07-16T19:34:45.458Z"
   },
   {
    "duration": 10,
    "start_time": "2024-07-16T19:34:54.578Z"
   },
   {
    "duration": 29,
    "start_time": "2024-07-16T19:36:35.586Z"
   },
   {
    "duration": 30,
    "start_time": "2024-07-16T19:37:14.366Z"
   },
   {
    "duration": 28,
    "start_time": "2024-07-16T19:37:55.820Z"
   },
   {
    "duration": 45,
    "start_time": "2024-07-16T19:37:58.645Z"
   },
   {
    "duration": 28,
    "start_time": "2024-07-16T19:37:59.309Z"
   },
   {
    "duration": 8,
    "start_time": "2024-07-16T19:38:25.205Z"
   },
   {
    "duration": 9,
    "start_time": "2024-07-16T19:44:22.482Z"
   },
   {
    "duration": 43,
    "start_time": "2024-07-16T19:49:28.078Z"
   },
   {
    "duration": 42,
    "start_time": "2024-07-16T19:50:19.573Z"
   },
   {
    "duration": 40,
    "start_time": "2024-07-16T19:50:20.890Z"
   },
   {
    "duration": 35,
    "start_time": "2024-07-16T19:50:38.395Z"
   },
   {
    "duration": 13,
    "start_time": "2024-07-16T19:50:53.760Z"
   },
   {
    "duration": 352,
    "start_time": "2024-07-16T19:52:18.588Z"
   },
   {
    "duration": 12,
    "start_time": "2024-07-16T19:52:30.058Z"
   },
   {
    "duration": 53,
    "start_time": "2024-07-16T19:52:35.661Z"
   },
   {
    "duration": 10,
    "start_time": "2024-07-16T19:52:36.346Z"
   },
   {
    "duration": 60,
    "start_time": "2024-07-16T19:55:30.720Z"
   },
   {
    "duration": 49,
    "start_time": "2024-07-16T20:07:26.932Z"
   },
   {
    "duration": 55,
    "start_time": "2024-07-16T20:09:22.763Z"
   },
   {
    "duration": 1403,
    "start_time": "2024-07-16T20:09:30.781Z"
   },
   {
    "duration": 25,
    "start_time": "2024-07-16T20:09:32.187Z"
   },
   {
    "duration": 21,
    "start_time": "2024-07-16T20:09:32.215Z"
   },
   {
    "duration": 5,
    "start_time": "2024-07-16T20:09:32.240Z"
   },
   {
    "duration": 17,
    "start_time": "2024-07-16T20:09:32.250Z"
   },
   {
    "duration": 107,
    "start_time": "2024-07-16T20:09:32.271Z"
   },
   {
    "duration": 25,
    "start_time": "2024-07-16T20:09:32.381Z"
   },
   {
    "duration": 25,
    "start_time": "2024-07-16T20:09:32.409Z"
   },
   {
    "duration": 37,
    "start_time": "2024-07-16T20:09:32.439Z"
   },
   {
    "duration": 6,
    "start_time": "2024-07-16T20:09:32.482Z"
   },
   {
    "duration": 61,
    "start_time": "2024-07-16T20:09:32.491Z"
   },
   {
    "duration": 7,
    "start_time": "2024-07-16T20:09:32.556Z"
   },
   {
    "duration": 17,
    "start_time": "2024-07-16T20:09:32.566Z"
   },
   {
    "duration": 1149,
    "start_time": "2024-07-16T20:09:32.586Z"
   },
   {
    "duration": 122,
    "start_time": "2024-07-16T20:09:33.738Z"
   },
   {
    "duration": 468,
    "start_time": "2024-07-16T20:09:33.862Z"
   },
   {
    "duration": 0,
    "start_time": "2024-07-16T20:09:34.333Z"
   },
   {
    "duration": 0,
    "start_time": "2024-07-16T20:09:34.335Z"
   },
   {
    "duration": 0,
    "start_time": "2024-07-16T20:09:34.337Z"
   },
   {
    "duration": 1,
    "start_time": "2024-07-16T20:09:34.339Z"
   },
   {
    "duration": 0,
    "start_time": "2024-07-16T20:09:34.341Z"
   },
   {
    "duration": 0,
    "start_time": "2024-07-16T20:09:34.344Z"
   },
   {
    "duration": 98,
    "start_time": "2024-07-16T20:09:55.138Z"
   },
   {
    "duration": 92,
    "start_time": "2024-07-16T20:10:18.364Z"
   },
   {
    "duration": 91,
    "start_time": "2024-07-16T20:10:34.278Z"
   },
   {
    "duration": 13,
    "start_time": "2024-07-16T20:43:45.312Z"
   },
   {
    "duration": 12,
    "start_time": "2024-07-16T20:48:50.315Z"
   },
   {
    "duration": 818,
    "start_time": "2024-07-16T20:51:43.821Z"
   },
   {
    "duration": 47,
    "start_time": "2024-07-16T20:53:50.860Z"
   },
   {
    "duration": 51,
    "start_time": "2024-07-16T21:46:48.531Z"
   },
   {
    "duration": 108,
    "start_time": "2024-07-16T21:48:12.669Z"
   },
   {
    "duration": 76,
    "start_time": "2024-07-16T21:50:18.824Z"
   },
   {
    "duration": 1778,
    "start_time": "2024-07-16T21:52:09.097Z"
   },
   {
    "duration": 53,
    "start_time": "2024-07-16T21:56:39.731Z"
   },
   {
    "duration": 55,
    "start_time": "2024-07-16T22:00:38.407Z"
   },
   {
    "duration": 10,
    "start_time": "2024-07-16T22:00:47.094Z"
   },
   {
    "duration": 1408,
    "start_time": "2024-07-16T22:00:56.796Z"
   },
   {
    "duration": 28,
    "start_time": "2024-07-16T22:00:58.209Z"
   },
   {
    "duration": 6,
    "start_time": "2024-07-16T22:00:58.240Z"
   },
   {
    "duration": 5,
    "start_time": "2024-07-16T22:00:58.252Z"
   },
   {
    "duration": 16,
    "start_time": "2024-07-16T22:00:58.260Z"
   },
   {
    "duration": 111,
    "start_time": "2024-07-16T22:00:58.279Z"
   },
   {
    "duration": 42,
    "start_time": "2024-07-16T22:00:58.393Z"
   },
   {
    "duration": 11,
    "start_time": "2024-07-16T22:00:58.438Z"
   },
   {
    "duration": 41,
    "start_time": "2024-07-16T22:00:58.452Z"
   },
   {
    "duration": 32,
    "start_time": "2024-07-16T22:00:58.498Z"
   },
   {
    "duration": 16,
    "start_time": "2024-07-16T22:00:58.534Z"
   },
   {
    "duration": 9,
    "start_time": "2024-07-16T22:00:58.553Z"
   },
   {
    "duration": 14,
    "start_time": "2024-07-16T22:00:58.565Z"
   },
   {
    "duration": 1164,
    "start_time": "2024-07-16T22:00:58.582Z"
   },
   {
    "duration": 200,
    "start_time": "2024-07-16T22:00:59.749Z"
   },
   {
    "duration": 108,
    "start_time": "2024-07-16T22:00:59.952Z"
   },
   {
    "duration": 426,
    "start_time": "2024-07-16T22:01:00.063Z"
   },
   {
    "duration": 0,
    "start_time": "2024-07-16T22:01:00.493Z"
   },
   {
    "duration": 0,
    "start_time": "2024-07-16T22:01:00.495Z"
   },
   {
    "duration": 0,
    "start_time": "2024-07-16T22:01:00.498Z"
   },
   {
    "duration": 0,
    "start_time": "2024-07-16T22:01:00.500Z"
   },
   {
    "duration": 10,
    "start_time": "2024-07-16T22:01:08.482Z"
   },
   {
    "duration": 26,
    "start_time": "2024-07-16T22:01:30.891Z"
   },
   {
    "duration": 1453,
    "start_time": "2024-07-16T22:01:38.020Z"
   },
   {
    "duration": 24,
    "start_time": "2024-07-16T22:01:39.477Z"
   },
   {
    "duration": 28,
    "start_time": "2024-07-16T22:01:39.504Z"
   },
   {
    "duration": 4,
    "start_time": "2024-07-16T22:01:39.535Z"
   },
   {
    "duration": 16,
    "start_time": "2024-07-16T22:01:39.545Z"
   },
   {
    "duration": 92,
    "start_time": "2024-07-16T22:01:39.563Z"
   },
   {
    "duration": 23,
    "start_time": "2024-07-16T22:01:39.658Z"
   },
   {
    "duration": 9,
    "start_time": "2024-07-16T22:01:39.684Z"
   },
   {
    "duration": 63,
    "start_time": "2024-07-16T22:01:39.697Z"
   },
   {
    "duration": 5,
    "start_time": "2024-07-16T22:01:39.763Z"
   },
   {
    "duration": 19,
    "start_time": "2024-07-16T22:01:39.771Z"
   },
   {
    "duration": 41,
    "start_time": "2024-07-16T22:01:39.793Z"
   },
   {
    "duration": 15,
    "start_time": "2024-07-16T22:01:39.837Z"
   },
   {
    "duration": 1092,
    "start_time": "2024-07-16T22:01:39.858Z"
   },
   {
    "duration": 194,
    "start_time": "2024-07-16T22:01:40.953Z"
   },
   {
    "duration": 108,
    "start_time": "2024-07-16T22:01:41.150Z"
   },
   {
    "duration": 11,
    "start_time": "2024-07-16T22:01:41.261Z"
   },
   {
    "duration": 68,
    "start_time": "2024-07-16T22:01:41.275Z"
   },
   {
    "duration": 1726,
    "start_time": "2024-07-16T22:01:41.346Z"
   },
   {
    "duration": 64,
    "start_time": "2024-07-16T22:01:43.076Z"
   },
   {
    "duration": 5,
    "start_time": "2024-07-16T22:01:43.144Z"
   },
   {
    "duration": 460,
    "start_time": "2024-07-16T22:14:04.668Z"
   },
   {
    "duration": 1461,
    "start_time": "2024-07-16T22:14:32.698Z"
   },
   {
    "duration": 28,
    "start_time": "2024-07-16T22:14:34.163Z"
   },
   {
    "duration": 6,
    "start_time": "2024-07-16T22:14:34.195Z"
   },
   {
    "duration": 28,
    "start_time": "2024-07-16T22:14:34.205Z"
   },
   {
    "duration": 19,
    "start_time": "2024-07-16T22:14:34.237Z"
   },
   {
    "duration": 91,
    "start_time": "2024-07-16T22:14:34.259Z"
   },
   {
    "duration": 23,
    "start_time": "2024-07-16T22:14:34.354Z"
   },
   {
    "duration": 10,
    "start_time": "2024-07-16T22:14:34.381Z"
   },
   {
    "duration": 65,
    "start_time": "2024-07-16T22:14:34.394Z"
   },
   {
    "duration": 4,
    "start_time": "2024-07-16T22:14:34.465Z"
   },
   {
    "duration": 18,
    "start_time": "2024-07-16T22:14:34.472Z"
   },
   {
    "duration": 40,
    "start_time": "2024-07-16T22:14:34.493Z"
   },
   {
    "duration": 15,
    "start_time": "2024-07-16T22:14:34.536Z"
   },
   {
    "duration": 1098,
    "start_time": "2024-07-16T22:14:34.554Z"
   },
   {
    "duration": 193,
    "start_time": "2024-07-16T22:14:35.655Z"
   },
   {
    "duration": 106,
    "start_time": "2024-07-16T22:14:35.854Z"
   },
   {
    "duration": 10,
    "start_time": "2024-07-16T22:14:35.963Z"
   },
   {
    "duration": 68,
    "start_time": "2024-07-16T22:14:35.976Z"
   },
   {
    "duration": 1703,
    "start_time": "2024-07-16T22:14:36.047Z"
   },
   {
    "duration": 54,
    "start_time": "2024-07-16T22:14:37.753Z"
   },
   {
    "duration": 476,
    "start_time": "2024-07-16T22:14:37.810Z"
   },
   {
    "duration": 101,
    "start_time": "2024-07-16T22:15:20.657Z"
   },
   {
    "duration": 1440,
    "start_time": "2024-07-16T22:21:52.238Z"
   },
   {
    "duration": 25,
    "start_time": "2024-07-16T22:21:53.682Z"
   },
   {
    "duration": 23,
    "start_time": "2024-07-16T22:21:53.709Z"
   },
   {
    "duration": 5,
    "start_time": "2024-07-16T22:21:53.735Z"
   },
   {
    "duration": 15,
    "start_time": "2024-07-16T22:21:53.748Z"
   },
   {
    "duration": 103,
    "start_time": "2024-07-16T22:21:53.766Z"
   },
   {
    "duration": 24,
    "start_time": "2024-07-16T22:21:53.872Z"
   },
   {
    "duration": 38,
    "start_time": "2024-07-16T22:21:53.898Z"
   },
   {
    "duration": 33,
    "start_time": "2024-07-16T22:21:53.939Z"
   },
   {
    "duration": 5,
    "start_time": "2024-07-16T22:21:53.976Z"
   },
   {
    "duration": 50,
    "start_time": "2024-07-16T22:21:53.984Z"
   },
   {
    "duration": 8,
    "start_time": "2024-07-16T22:21:54.037Z"
   },
   {
    "duration": 18,
    "start_time": "2024-07-16T22:21:54.048Z"
   },
   {
    "duration": 1076,
    "start_time": "2024-07-16T22:21:54.071Z"
   },
   {
    "duration": 199,
    "start_time": "2024-07-16T22:21:55.150Z"
   },
   {
    "duration": 109,
    "start_time": "2024-07-16T22:21:55.354Z"
   },
   {
    "duration": 12,
    "start_time": "2024-07-16T22:21:55.467Z"
   },
   {
    "duration": 70,
    "start_time": "2024-07-16T22:21:55.482Z"
   },
   {
    "duration": 1677,
    "start_time": "2024-07-16T22:21:55.555Z"
   },
   {
    "duration": 55,
    "start_time": "2024-07-16T22:21:57.235Z"
   },
   {
    "duration": 8,
    "start_time": "2024-07-16T22:21:57.293Z"
   },
   {
    "duration": 0,
    "start_time": "2024-07-16T22:21:57.330Z"
   },
   {
    "duration": 6,
    "start_time": "2024-07-16T22:22:28.485Z"
   },
   {
    "duration": 7,
    "start_time": "2024-07-16T22:22:31.505Z"
   },
   {
    "duration": 1559,
    "start_time": "2024-07-16T22:25:30.813Z"
   },
   {
    "duration": 25,
    "start_time": "2024-07-16T22:25:32.376Z"
   },
   {
    "duration": 6,
    "start_time": "2024-07-16T22:25:32.404Z"
   },
   {
    "duration": 5,
    "start_time": "2024-07-16T22:25:32.430Z"
   },
   {
    "duration": 17,
    "start_time": "2024-07-16T22:25:32.443Z"
   },
   {
    "duration": 88,
    "start_time": "2024-07-16T22:25:32.462Z"
   },
   {
    "duration": 23,
    "start_time": "2024-07-16T22:25:32.553Z"
   },
   {
    "duration": 10,
    "start_time": "2024-07-16T22:25:32.578Z"
   },
   {
    "duration": 73,
    "start_time": "2024-07-16T22:25:32.591Z"
   },
   {
    "duration": 5,
    "start_time": "2024-07-16T22:25:32.667Z"
   },
   {
    "duration": 17,
    "start_time": "2024-07-16T22:25:32.675Z"
   },
   {
    "duration": 36,
    "start_time": "2024-07-16T22:25:32.695Z"
   },
   {
    "duration": 15,
    "start_time": "2024-07-16T22:25:32.734Z"
   },
   {
    "duration": 1091,
    "start_time": "2024-07-16T22:25:32.755Z"
   },
   {
    "duration": 207,
    "start_time": "2024-07-16T22:25:33.849Z"
   },
   {
    "duration": 104,
    "start_time": "2024-07-16T22:25:34.059Z"
   },
   {
    "duration": 11,
    "start_time": "2024-07-16T22:25:34.165Z"
   },
   {
    "duration": 72,
    "start_time": "2024-07-16T22:25:34.179Z"
   },
   {
    "duration": 1728,
    "start_time": "2024-07-16T22:25:34.254Z"
   },
   {
    "duration": 66,
    "start_time": "2024-07-16T22:25:35.985Z"
   },
   {
    "duration": 304010,
    "start_time": "2024-07-16T22:25:36.054Z"
   },
   {
    "duration": 118,
    "start_time": "2024-07-16T22:30:40.067Z"
   },
   {
    "duration": 6,
    "start_time": "2024-07-16T22:31:04.399Z"
   },
   {
    "duration": 5,
    "start_time": "2024-07-16T22:31:31.716Z"
   },
   {
    "duration": 5,
    "start_time": "2024-07-16T22:33:06.154Z"
   },
   {
    "duration": 493,
    "start_time": "2024-07-16T22:33:13.914Z"
   },
   {
    "duration": 174,
    "start_time": "2024-07-16T22:33:18.348Z"
   },
   {
    "duration": 54,
    "start_time": "2024-07-16T22:34:43.920Z"
   },
   {
    "duration": 3387,
    "start_time": "2024-07-16T22:36:20.707Z"
   },
   {
    "duration": 196,
    "start_time": "2024-07-16T22:37:28.323Z"
   },
   {
    "duration": 1420,
    "start_time": "2024-07-16T22:37:39.349Z"
   },
   {
    "duration": 24,
    "start_time": "2024-07-16T22:37:40.773Z"
   },
   {
    "duration": 7,
    "start_time": "2024-07-16T22:37:40.799Z"
   },
   {
    "duration": 4,
    "start_time": "2024-07-16T22:37:40.833Z"
   },
   {
    "duration": 18,
    "start_time": "2024-07-16T22:37:40.841Z"
   },
   {
    "duration": 86,
    "start_time": "2024-07-16T22:37:40.861Z"
   },
   {
    "duration": 22,
    "start_time": "2024-07-16T22:37:40.950Z"
   },
   {
    "duration": 9,
    "start_time": "2024-07-16T22:37:40.975Z"
   },
   {
    "duration": 71,
    "start_time": "2024-07-16T22:37:40.987Z"
   },
   {
    "duration": 5,
    "start_time": "2024-07-16T22:37:41.063Z"
   },
   {
    "duration": 17,
    "start_time": "2024-07-16T22:37:41.071Z"
   },
   {
    "duration": 39,
    "start_time": "2024-07-16T22:37:41.091Z"
   },
   {
    "duration": 16,
    "start_time": "2024-07-16T22:37:41.134Z"
   },
   {
    "duration": 1193,
    "start_time": "2024-07-16T22:37:41.152Z"
   },
   {
    "duration": 120,
    "start_time": "2024-07-16T22:37:42.353Z"
   },
   {
    "duration": 129,
    "start_time": "2024-07-16T22:37:42.476Z"
   },
   {
    "duration": 21,
    "start_time": "2024-07-16T22:37:42.608Z"
   },
   {
    "duration": 49,
    "start_time": "2024-07-16T22:37:42.633Z"
   },
   {
    "duration": 1714,
    "start_time": "2024-07-16T22:37:42.685Z"
   },
   {
    "duration": 67,
    "start_time": "2024-07-16T22:37:44.401Z"
   },
   {
    "duration": 1436,
    "start_time": "2024-07-16T22:39:40.453Z"
   },
   {
    "duration": 25,
    "start_time": "2024-07-16T22:39:41.894Z"
   },
   {
    "duration": 6,
    "start_time": "2024-07-16T22:39:41.932Z"
   },
   {
    "duration": 4,
    "start_time": "2024-07-16T22:39:41.941Z"
   },
   {
    "duration": 15,
    "start_time": "2024-07-16T22:39:41.952Z"
   },
   {
    "duration": 109,
    "start_time": "2024-07-16T22:39:41.971Z"
   },
   {
    "duration": 26,
    "start_time": "2024-07-16T22:39:42.084Z"
   },
   {
    "duration": 28,
    "start_time": "2024-07-16T22:39:42.113Z"
   },
   {
    "duration": 37,
    "start_time": "2024-07-16T22:39:42.146Z"
   },
   {
    "duration": 6,
    "start_time": "2024-07-16T22:39:42.186Z"
   },
   {
    "duration": 21,
    "start_time": "2024-07-16T22:39:42.232Z"
   },
   {
    "duration": 8,
    "start_time": "2024-07-16T22:39:42.256Z"
   },
   {
    "duration": 15,
    "start_time": "2024-07-16T22:39:42.267Z"
   },
   {
    "duration": 1147,
    "start_time": "2024-07-16T22:39:42.289Z"
   },
   {
    "duration": 123,
    "start_time": "2024-07-16T22:39:43.439Z"
   },
   {
    "duration": 147,
    "start_time": "2024-07-16T22:39:43.565Z"
   },
   {
    "duration": 22,
    "start_time": "2024-07-16T22:39:43.715Z"
   },
   {
    "duration": 48,
    "start_time": "2024-07-16T22:39:43.741Z"
   },
   {
    "duration": 1745,
    "start_time": "2024-07-16T22:39:43.792Z"
   },
   {
    "duration": 56,
    "start_time": "2024-07-16T22:39:45.540Z"
   },
   {
    "duration": 303219,
    "start_time": "2024-07-16T22:39:45.599Z"
   },
   {
    "duration": 12,
    "start_time": "2024-07-16T22:44:48.822Z"
   },
   {
    "duration": 3566,
    "start_time": "2024-07-16T22:44:48.838Z"
   },
   {
    "duration": 431,
    "start_time": "2024-07-16T22:48:46.907Z"
   },
   {
    "duration": 1634,
    "start_time": "2024-07-16T22:49:03.599Z"
   },
   {
    "duration": 26,
    "start_time": "2024-07-16T22:49:05.239Z"
   },
   {
    "duration": 6,
    "start_time": "2024-07-16T22:49:05.269Z"
   },
   {
    "duration": 5,
    "start_time": "2024-07-16T22:49:05.281Z"
   },
   {
    "duration": 60,
    "start_time": "2024-07-16T22:49:05.288Z"
   },
   {
    "duration": 5,
    "start_time": "2024-07-16T22:49:05.351Z"
   },
   {
    "duration": 24,
    "start_time": "2024-07-16T22:49:05.359Z"
   },
   {
    "duration": 44,
    "start_time": "2024-07-16T22:49:05.386Z"
   },
   {
    "duration": 33,
    "start_time": "2024-07-16T22:49:05.436Z"
   },
   {
    "duration": 5,
    "start_time": "2024-07-16T22:49:05.472Z"
   },
   {
    "duration": 50,
    "start_time": "2024-07-16T22:49:05.480Z"
   },
   {
    "duration": 8,
    "start_time": "2024-07-16T22:49:05.533Z"
   },
   {
    "duration": 15,
    "start_time": "2024-07-16T22:49:05.544Z"
   },
   {
    "duration": 1089,
    "start_time": "2024-07-16T22:49:05.562Z"
   },
   {
    "duration": 199,
    "start_time": "2024-07-16T22:49:06.654Z"
   },
   {
    "duration": 105,
    "start_time": "2024-07-16T22:49:06.856Z"
   },
   {
    "duration": 11,
    "start_time": "2024-07-16T22:49:06.964Z"
   },
   {
    "duration": 74,
    "start_time": "2024-07-16T22:49:06.979Z"
   },
   {
    "duration": 1687,
    "start_time": "2024-07-16T22:49:07.056Z"
   },
   {
    "duration": 54,
    "start_time": "2024-07-16T22:49:08.745Z"
   },
   {
    "duration": 306148,
    "start_time": "2024-07-16T22:49:08.802Z"
   },
   {
    "duration": 7,
    "start_time": "2024-07-16T22:54:14.953Z"
   },
   {
    "duration": 3553,
    "start_time": "2024-07-16T22:54:14.962Z"
   },
   {
    "duration": 1392,
    "start_time": "2024-07-16T22:54:18.519Z"
   },
   {
    "duration": 495,
    "start_time": "2024-07-16T23:06:49.543Z"
   },
   {
    "duration": 10071,
    "start_time": "2024-07-16T23:07:12.845Z"
   },
   {
    "duration": 50,
    "start_time": "2024-07-16T23:42:45.458Z"
   },
   {
    "duration": 599,
    "start_time": "2024-07-16T23:43:03.676Z"
   },
   {
    "duration": 7,
    "start_time": "2024-07-16T23:43:29.070Z"
   },
   {
    "duration": 6,
    "start_time": "2024-07-16T23:44:02.492Z"
   },
   {
    "duration": 6,
    "start_time": "2024-07-16T23:44:15.986Z"
   },
   {
    "duration": 7,
    "start_time": "2024-07-16T23:44:36.995Z"
   },
   {
    "duration": 9,
    "start_time": "2024-07-16T23:44:56.955Z"
   },
   {
    "duration": 25,
    "start_time": "2024-07-16T23:45:35.744Z"
   },
   {
    "duration": 24,
    "start_time": "2024-07-16T23:45:43.316Z"
   },
   {
    "duration": 344,
    "start_time": "2024-07-16T23:46:22.800Z"
   },
   {
    "duration": 1633,
    "start_time": "2024-07-16T23:46:32.896Z"
   },
   {
    "duration": 24,
    "start_time": "2024-07-16T23:46:34.533Z"
   },
   {
    "duration": 7,
    "start_time": "2024-07-16T23:46:34.560Z"
   },
   {
    "duration": 4,
    "start_time": "2024-07-16T23:46:34.571Z"
   },
   {
    "duration": 58,
    "start_time": "2024-07-16T23:46:34.578Z"
   },
   {
    "duration": 7,
    "start_time": "2024-07-16T23:46:34.639Z"
   },
   {
    "duration": 23,
    "start_time": "2024-07-16T23:46:34.650Z"
   },
   {
    "duration": 10,
    "start_time": "2024-07-16T23:46:34.677Z"
   },
   {
    "duration": 66,
    "start_time": "2024-07-16T23:46:34.690Z"
   },
   {
    "duration": 4,
    "start_time": "2024-07-16T23:46:34.763Z"
   },
   {
    "duration": 17,
    "start_time": "2024-07-16T23:46:34.770Z"
   },
   {
    "duration": 42,
    "start_time": "2024-07-16T23:46:34.790Z"
   },
   {
    "duration": 16,
    "start_time": "2024-07-16T23:46:34.834Z"
   },
   {
    "duration": 1097,
    "start_time": "2024-07-16T23:46:34.852Z"
   },
   {
    "duration": 195,
    "start_time": "2024-07-16T23:46:35.952Z"
   },
   {
    "duration": 111,
    "start_time": "2024-07-16T23:46:36.150Z"
   },
   {
    "duration": 11,
    "start_time": "2024-07-16T23:46:36.263Z"
   },
   {
    "duration": 67,
    "start_time": "2024-07-16T23:46:36.277Z"
   },
   {
    "duration": 1683,
    "start_time": "2024-07-16T23:46:36.347Z"
   },
   {
    "duration": 54,
    "start_time": "2024-07-16T23:46:38.034Z"
   },
   {
    "duration": 304969,
    "start_time": "2024-07-16T23:46:38.091Z"
   },
   {
    "duration": 8,
    "start_time": "2024-07-16T23:51:43.064Z"
   },
   {
    "duration": 3573,
    "start_time": "2024-07-16T23:51:43.075Z"
   },
   {
    "duration": 10041,
    "start_time": "2024-07-16T23:51:46.651Z"
   },
   {
    "duration": 725,
    "start_time": "2024-07-16T23:51:56.695Z"
   },
   {
    "duration": 300,
    "start_time": "2024-07-16T23:53:29.964Z"
   },
   {
    "duration": 7,
    "start_time": "2024-07-16T23:55:37.123Z"
   },
   {
    "duration": 9,
    "start_time": "2024-07-16T23:55:47.380Z"
   },
   {
    "duration": 7,
    "start_time": "2024-07-16T23:56:08.483Z"
   },
   {
    "duration": 313,
    "start_time": "2024-07-16T23:57:50.890Z"
   },
   {
    "duration": 6,
    "start_time": "2024-07-17T00:28:12.676Z"
   },
   {
    "duration": 14,
    "start_time": "2024-07-17T00:28:30.836Z"
   },
   {
    "duration": 43,
    "start_time": "2024-07-17T00:28:48.510Z"
   },
   {
    "duration": 1635,
    "start_time": "2024-07-17T00:28:55.895Z"
   },
   {
    "duration": 24,
    "start_time": "2024-07-17T00:28:57.533Z"
   },
   {
    "duration": 7,
    "start_time": "2024-07-17T00:28:57.560Z"
   },
   {
    "duration": 4,
    "start_time": "2024-07-17T00:28:57.571Z"
   },
   {
    "duration": 59,
    "start_time": "2024-07-17T00:28:57.579Z"
   },
   {
    "duration": 8,
    "start_time": "2024-07-17T00:28:57.640Z"
   },
   {
    "duration": 22,
    "start_time": "2024-07-17T00:28:57.652Z"
   },
   {
    "duration": 10,
    "start_time": "2024-07-17T00:28:57.677Z"
   },
   {
    "duration": 66,
    "start_time": "2024-07-17T00:28:57.690Z"
   },
   {
    "duration": 5,
    "start_time": "2024-07-17T00:28:57.761Z"
   },
   {
    "duration": 17,
    "start_time": "2024-07-17T00:28:57.769Z"
   },
   {
    "duration": 43,
    "start_time": "2024-07-17T00:28:57.790Z"
   },
   {
    "duration": 15,
    "start_time": "2024-07-17T00:28:57.836Z"
   },
   {
    "duration": 1086,
    "start_time": "2024-07-17T00:28:57.854Z"
   },
   {
    "duration": 195,
    "start_time": "2024-07-17T00:28:58.947Z"
   },
   {
    "duration": 109,
    "start_time": "2024-07-17T00:28:59.145Z"
   },
   {
    "duration": 11,
    "start_time": "2024-07-17T00:28:59.257Z"
   },
   {
    "duration": 74,
    "start_time": "2024-07-17T00:28:59.273Z"
   },
   {
    "duration": 1720,
    "start_time": "2024-07-17T00:28:59.350Z"
   },
   {
    "duration": 66,
    "start_time": "2024-07-17T00:29:01.074Z"
   },
   {
    "duration": 308471,
    "start_time": "2024-07-17T00:29:01.143Z"
   },
   {
    "duration": 16,
    "start_time": "2024-07-17T00:34:09.617Z"
   },
   {
    "duration": 3657,
    "start_time": "2024-07-17T00:34:09.639Z"
   },
   {
    "duration": 10377,
    "start_time": "2024-07-17T00:34:13.300Z"
   },
   {
    "duration": 344,
    "start_time": "2024-07-17T00:34:23.683Z"
   },
   {
    "duration": 574,
    "start_time": "2024-07-17T00:34:24.030Z"
   },
   {
    "duration": 3482,
    "start_time": "2024-07-17T00:47:34.495Z"
   },
   {
    "duration": 2576,
    "start_time": "2024-07-17T00:51:19.132Z"
   },
   {
    "duration": 1451,
    "start_time": "2024-07-17T01:02:30.190Z"
   },
   {
    "duration": 2675,
    "start_time": "2024-07-17T01:02:45.907Z"
   },
   {
    "duration": 2661,
    "start_time": "2024-07-17T01:03:12.575Z"
   },
   {
    "duration": 1624,
    "start_time": "2024-07-17T01:03:21.184Z"
   },
   {
    "duration": 34,
    "start_time": "2024-07-17T01:03:22.812Z"
   },
   {
    "duration": 7,
    "start_time": "2024-07-17T01:03:22.850Z"
   },
   {
    "duration": 4,
    "start_time": "2024-07-17T01:03:22.861Z"
   },
   {
    "duration": 18,
    "start_time": "2024-07-17T01:03:22.870Z"
   },
   {
    "duration": 44,
    "start_time": "2024-07-17T01:03:22.891Z"
   },
   {
    "duration": 24,
    "start_time": "2024-07-17T01:03:22.939Z"
   },
   {
    "duration": 10,
    "start_time": "2024-07-17T01:03:22.966Z"
   },
   {
    "duration": 75,
    "start_time": "2024-07-17T01:03:22.980Z"
   },
   {
    "duration": 6,
    "start_time": "2024-07-17T01:03:23.058Z"
   },
   {
    "duration": 17,
    "start_time": "2024-07-17T01:03:23.067Z"
   },
   {
    "duration": 9,
    "start_time": "2024-07-17T01:03:23.087Z"
   },
   {
    "duration": 15,
    "start_time": "2024-07-17T01:03:23.130Z"
   },
   {
    "duration": 1088,
    "start_time": "2024-07-17T01:03:23.150Z"
   },
   {
    "duration": 203,
    "start_time": "2024-07-17T01:03:24.241Z"
   },
   {
    "duration": 104,
    "start_time": "2024-07-17T01:03:24.447Z"
   },
   {
    "duration": 10,
    "start_time": "2024-07-17T01:03:24.554Z"
   },
   {
    "duration": 71,
    "start_time": "2024-07-17T01:03:24.568Z"
   },
   {
    "duration": 1680,
    "start_time": "2024-07-17T01:03:24.642Z"
   },
   {
    "duration": 54,
    "start_time": "2024-07-17T01:03:26.331Z"
   },
   {
    "duration": 305915,
    "start_time": "2024-07-17T01:03:26.390Z"
   },
   {
    "duration": 6,
    "start_time": "2024-07-17T01:08:32.308Z"
   },
   {
    "duration": 3542,
    "start_time": "2024-07-17T01:08:32.331Z"
   },
   {
    "duration": 3532,
    "start_time": "2024-07-17T01:08:35.876Z"
   },
   {
    "duration": 9977,
    "start_time": "2024-07-17T01:08:39.411Z"
   },
   {
    "duration": 353,
    "start_time": "2024-07-17T01:08:49.394Z"
   },
   {
    "duration": 3524,
    "start_time": "2024-07-17T01:08:52.409Z"
   },
   {
    "duration": 3479,
    "start_time": "2024-07-17T01:09:03.677Z"
   },
   {
    "duration": 3522,
    "start_time": "2024-07-17T01:09:18.490Z"
   },
   {
    "duration": 5157,
    "start_time": "2024-07-17T01:09:36.874Z"
   },
   {
    "duration": 5272,
    "start_time": "2024-07-17T01:11:24.539Z"
   },
   {
    "duration": 4399,
    "start_time": "2024-07-17T01:11:42.396Z"
   },
   {
    "duration": 3558,
    "start_time": "2024-07-17T01:12:09.712Z"
   },
   {
    "duration": 3512,
    "start_time": "2024-07-17T01:12:21.078Z"
   },
   {
    "duration": 3455,
    "start_time": "2024-07-17T01:12:31.758Z"
   },
   {
    "duration": 3460,
    "start_time": "2024-07-17T01:12:41.608Z"
   },
   {
    "duration": 3532,
    "start_time": "2024-07-17T01:12:48.030Z"
   },
   {
    "duration": 1240,
    "start_time": "2024-07-17T01:12:57.470Z"
   },
   {
    "duration": 3517,
    "start_time": "2024-07-17T01:13:04.566Z"
   },
   {
    "duration": 3320,
    "start_time": "2024-07-17T01:13:12.527Z"
   },
   {
    "duration": 3893,
    "start_time": "2024-07-17T01:13:19.755Z"
   },
   {
    "duration": 3566,
    "start_time": "2024-07-17T01:13:26.841Z"
   },
   {
    "duration": 8837,
    "start_time": "2024-07-17T01:13:34.578Z"
   },
   {
    "duration": 21,
    "start_time": "2024-07-17T01:14:28.866Z"
   },
   {
    "duration": 7,
    "start_time": "2024-07-17T01:16:54.098Z"
   },
   {
    "duration": 1295,
    "start_time": "2024-07-17T01:17:02.285Z"
   },
   {
    "duration": 178,
    "start_time": "2024-07-17T01:17:20.992Z"
   },
   {
    "duration": 6367,
    "start_time": "2024-07-17T01:19:43.165Z"
   },
   {
    "duration": 6107,
    "start_time": "2024-07-17T01:22:13.267Z"
   },
   {
    "duration": 1573,
    "start_time": "2024-07-17T01:22:38.882Z"
   },
   {
    "duration": 24,
    "start_time": "2024-07-17T01:22:40.458Z"
   },
   {
    "duration": 6,
    "start_time": "2024-07-17T01:22:40.487Z"
   },
   {
    "duration": 4,
    "start_time": "2024-07-17T01:22:40.497Z"
   },
   {
    "duration": 18,
    "start_time": "2024-07-17T01:22:40.532Z"
   },
   {
    "duration": 6,
    "start_time": "2024-07-17T01:22:40.553Z"
   },
   {
    "duration": 21,
    "start_time": "2024-07-17T01:22:40.563Z"
   },
   {
    "duration": 45,
    "start_time": "2024-07-17T01:22:40.587Z"
   },
   {
    "duration": 34,
    "start_time": "2024-07-17T01:22:40.635Z"
   },
   {
    "duration": 5,
    "start_time": "2024-07-17T01:22:40.674Z"
   },
   {
    "duration": 55,
    "start_time": "2024-07-17T01:22:40.681Z"
   },
   {
    "duration": 11,
    "start_time": "2024-07-17T01:22:40.741Z"
   },
   {
    "duration": 16,
    "start_time": "2024-07-17T01:22:40.755Z"
   },
   {
    "duration": 1160,
    "start_time": "2024-07-17T01:22:40.774Z"
   },
   {
    "duration": 127,
    "start_time": "2024-07-17T01:22:41.937Z"
   },
   {
    "duration": 109,
    "start_time": "2024-07-17T01:22:42.132Z"
   },
   {
    "duration": 13,
    "start_time": "2024-07-17T01:22:42.244Z"
   },
   {
    "duration": 71,
    "start_time": "2024-07-17T01:22:42.260Z"
   },
   {
    "duration": 1700,
    "start_time": "2024-07-17T01:22:42.334Z"
   },
   {
    "duration": 55,
    "start_time": "2024-07-17T01:22:44.038Z"
   },
   {
    "duration": 305389,
    "start_time": "2024-07-17T01:22:44.096Z"
   },
   {
    "duration": 6,
    "start_time": "2024-07-17T01:27:49.489Z"
   },
   {
    "duration": 3585,
    "start_time": "2024-07-17T01:27:49.498Z"
   },
   {
    "duration": 9965,
    "start_time": "2024-07-17T01:27:53.089Z"
   },
   {
    "duration": 338,
    "start_time": "2024-07-17T01:28:03.057Z"
   },
   {
    "duration": 6831,
    "start_time": "2024-07-17T01:28:03.399Z"
   },
   {
    "duration": 5323,
    "start_time": "2024-07-17T01:37:35.135Z"
   },
   {
    "duration": 1608,
    "start_time": "2024-07-17T01:38:02.605Z"
   },
   {
    "duration": 26,
    "start_time": "2024-07-17T01:38:04.216Z"
   },
   {
    "duration": 8,
    "start_time": "2024-07-17T01:38:04.244Z"
   },
   {
    "duration": 5,
    "start_time": "2024-07-17T01:38:04.255Z"
   },
   {
    "duration": 18,
    "start_time": "2024-07-17T01:38:04.263Z"
   },
   {
    "duration": 49,
    "start_time": "2024-07-17T01:38:04.283Z"
   },
   {
    "duration": 23,
    "start_time": "2024-07-17T01:38:04.335Z"
   },
   {
    "duration": 10,
    "start_time": "2024-07-17T01:38:04.361Z"
   },
   {
    "duration": 79,
    "start_time": "2024-07-17T01:38:04.373Z"
   },
   {
    "duration": 6,
    "start_time": "2024-07-17T01:38:04.458Z"
   },
   {
    "duration": 18,
    "start_time": "2024-07-17T01:38:04.467Z"
   },
   {
    "duration": 9,
    "start_time": "2024-07-17T01:38:04.487Z"
   },
   {
    "duration": 14,
    "start_time": "2024-07-17T01:38:04.530Z"
   },
   {
    "duration": 1102,
    "start_time": "2024-07-17T01:38:04.547Z"
   },
   {
    "duration": 117,
    "start_time": "2024-07-17T01:38:05.655Z"
   },
   {
    "duration": 157,
    "start_time": "2024-07-17T01:38:05.775Z"
   },
   {
    "duration": 10,
    "start_time": "2024-07-17T01:38:05.935Z"
   },
   {
    "duration": 48,
    "start_time": "2024-07-17T01:38:05.948Z"
   },
   {
    "duration": 1730,
    "start_time": "2024-07-17T01:38:06.000Z"
   },
   {
    "duration": 54,
    "start_time": "2024-07-17T01:38:07.734Z"
   },
   {
    "duration": 305702,
    "start_time": "2024-07-17T01:38:07.794Z"
   },
   {
    "duration": 6,
    "start_time": "2024-07-17T01:43:13.499Z"
   },
   {
    "duration": 3536,
    "start_time": "2024-07-17T01:43:13.508Z"
   },
   {
    "duration": 9928,
    "start_time": "2024-07-17T01:43:17.050Z"
   },
   {
    "duration": 323,
    "start_time": "2024-07-17T01:43:26.980Z"
   },
   {
    "duration": 5330,
    "start_time": "2024-07-17T01:43:27.306Z"
   },
   {
    "duration": 6,
    "start_time": "2024-07-17T01:50:09.601Z"
   },
   {
    "duration": 13,
    "start_time": "2024-07-21T22:17:51.990Z"
   },
   {
    "duration": 8,
    "start_time": "2024-07-21T22:20:32.387Z"
   },
   {
    "duration": 321,
    "start_time": "2024-07-21T22:24:54.364Z"
   },
   {
    "duration": 5231,
    "start_time": "2024-07-21T22:25:07.729Z"
   },
   {
    "duration": 24,
    "start_time": "2024-07-21T22:25:12.964Z"
   },
   {
    "duration": 7,
    "start_time": "2024-07-21T22:25:12.991Z"
   },
   {
    "duration": 9,
    "start_time": "2024-07-21T22:25:13.001Z"
   },
   {
    "duration": 18,
    "start_time": "2024-07-21T22:25:13.013Z"
   },
   {
    "duration": 6,
    "start_time": "2024-07-21T22:25:13.033Z"
   },
   {
    "duration": 23,
    "start_time": "2024-07-21T22:25:13.042Z"
   },
   {
    "duration": 10,
    "start_time": "2024-07-21T22:25:13.108Z"
   },
   {
    "duration": 33,
    "start_time": "2024-07-21T22:25:13.121Z"
   },
   {
    "duration": 7,
    "start_time": "2024-07-21T22:25:13.161Z"
   },
   {
    "duration": 51,
    "start_time": "2024-07-21T22:25:13.171Z"
   },
   {
    "duration": 9,
    "start_time": "2024-07-21T22:25:13.225Z"
   },
   {
    "duration": 20,
    "start_time": "2024-07-21T22:25:13.237Z"
   },
   {
    "duration": 1059,
    "start_time": "2024-07-21T22:25:13.260Z"
   },
   {
    "duration": 199,
    "start_time": "2024-07-21T22:25:14.327Z"
   },
   {
    "duration": 127,
    "start_time": "2024-07-21T22:25:14.529Z"
   },
   {
    "duration": 12,
    "start_time": "2024-07-21T22:25:14.661Z"
   },
   {
    "duration": 67,
    "start_time": "2024-07-21T22:25:14.676Z"
   },
   {
    "duration": 1710,
    "start_time": "2024-07-21T22:25:14.746Z"
   },
   {
    "duration": 67,
    "start_time": "2024-07-21T22:25:16.460Z"
   },
   {
    "duration": 1784,
    "start_time": "2024-07-21T22:29:03.650Z"
   },
   {
    "duration": 28,
    "start_time": "2024-07-21T22:29:05.437Z"
   },
   {
    "duration": 7,
    "start_time": "2024-07-21T22:29:05.468Z"
   },
   {
    "duration": 10,
    "start_time": "2024-07-21T22:29:05.509Z"
   },
   {
    "duration": 23,
    "start_time": "2024-07-21T22:29:05.522Z"
   },
   {
    "duration": 8,
    "start_time": "2024-07-21T22:29:05.548Z"
   },
   {
    "duration": 58,
    "start_time": "2024-07-21T22:29:05.560Z"
   },
   {
    "duration": 9,
    "start_time": "2024-07-21T22:29:05.622Z"
   },
   {
    "duration": 35,
    "start_time": "2024-07-21T22:29:05.634Z"
   },
   {
    "duration": 33,
    "start_time": "2024-07-21T22:29:05.675Z"
   },
   {
    "duration": 21,
    "start_time": "2024-07-21T22:29:05.712Z"
   },
   {
    "duration": 11,
    "start_time": "2024-07-21T22:29:05.742Z"
   },
   {
    "duration": 60,
    "start_time": "2024-07-21T22:29:05.757Z"
   },
   {
    "duration": 996,
    "start_time": "2024-07-21T22:29:05.821Z"
   },
   {
    "duration": 130,
    "start_time": "2024-07-21T22:29:06.824Z"
   },
   {
    "duration": 601,
    "start_time": "2024-07-21T22:29:07.009Z"
   },
   {
    "duration": 0,
    "start_time": "2024-07-21T22:29:07.613Z"
   },
   {
    "duration": 0,
    "start_time": "2024-07-21T22:29:07.617Z"
   },
   {
    "duration": 0,
    "start_time": "2024-07-21T22:29:07.620Z"
   },
   {
    "duration": 0,
    "start_time": "2024-07-21T22:29:07.623Z"
   },
   {
    "duration": 0,
    "start_time": "2024-07-21T22:29:07.625Z"
   },
   {
    "duration": 0,
    "start_time": "2024-07-21T22:29:07.628Z"
   },
   {
    "duration": 0,
    "start_time": "2024-07-21T22:29:07.630Z"
   },
   {
    "duration": 0,
    "start_time": "2024-07-21T22:29:07.632Z"
   },
   {
    "duration": 0,
    "start_time": "2024-07-21T22:29:07.634Z"
   },
   {
    "duration": 0,
    "start_time": "2024-07-21T22:29:07.637Z"
   },
   {
    "duration": 1682,
    "start_time": "2024-07-21T22:31:11.681Z"
   },
   {
    "duration": 28,
    "start_time": "2024-07-21T22:31:13.369Z"
   },
   {
    "duration": 7,
    "start_time": "2024-07-21T22:31:13.410Z"
   },
   {
    "duration": 5,
    "start_time": "2024-07-21T22:31:13.421Z"
   },
   {
    "duration": 19,
    "start_time": "2024-07-21T22:31:13.433Z"
   },
   {
    "duration": 53,
    "start_time": "2024-07-21T22:31:13.455Z"
   },
   {
    "duration": 25,
    "start_time": "2024-07-21T22:31:13.511Z"
   },
   {
    "duration": 10,
    "start_time": "2024-07-21T22:31:13.539Z"
   },
   {
    "duration": 68,
    "start_time": "2024-07-21T22:31:13.552Z"
   },
   {
    "duration": 5,
    "start_time": "2024-07-21T22:31:13.623Z"
   },
   {
    "duration": 20,
    "start_time": "2024-07-21T22:31:13.631Z"
   },
   {
    "duration": 11,
    "start_time": "2024-07-21T22:31:13.655Z"
   },
   {
    "duration": 68,
    "start_time": "2024-07-21T22:31:13.669Z"
   },
   {
    "duration": 1097,
    "start_time": "2024-07-21T22:31:13.743Z"
   },
   {
    "duration": 185,
    "start_time": "2024-07-21T22:31:14.844Z"
   },
   {
    "duration": 606,
    "start_time": "2024-07-21T22:31:15.034Z"
   },
   {
    "duration": 0,
    "start_time": "2024-07-21T22:31:15.644Z"
   },
   {
    "duration": 0,
    "start_time": "2024-07-21T22:31:15.647Z"
   },
   {
    "duration": 0,
    "start_time": "2024-07-21T22:31:15.649Z"
   },
   {
    "duration": 0,
    "start_time": "2024-07-21T22:31:15.651Z"
   },
   {
    "duration": 0,
    "start_time": "2024-07-21T22:31:15.653Z"
   },
   {
    "duration": 0,
    "start_time": "2024-07-21T22:31:15.655Z"
   },
   {
    "duration": 0,
    "start_time": "2024-07-21T22:31:15.656Z"
   },
   {
    "duration": 0,
    "start_time": "2024-07-21T22:31:15.659Z"
   },
   {
    "duration": 0,
    "start_time": "2024-07-21T22:31:15.661Z"
   },
   {
    "duration": 0,
    "start_time": "2024-07-21T22:31:15.663Z"
   },
   {
    "duration": 5150,
    "start_time": "2024-07-22T18:23:13.984Z"
   },
   {
    "duration": 25,
    "start_time": "2024-07-22T18:23:19.138Z"
   },
   {
    "duration": 7,
    "start_time": "2024-07-22T18:23:19.166Z"
   },
   {
    "duration": 5,
    "start_time": "2024-07-22T18:23:19.176Z"
   },
   {
    "duration": 55,
    "start_time": "2024-07-22T18:23:19.185Z"
   },
   {
    "duration": 6,
    "start_time": "2024-07-22T18:23:19.243Z"
   },
   {
    "duration": 22,
    "start_time": "2024-07-22T18:23:19.252Z"
   },
   {
    "duration": 10,
    "start_time": "2024-07-22T18:23:19.278Z"
   },
   {
    "duration": 70,
    "start_time": "2024-07-22T18:23:19.292Z"
   },
   {
    "duration": 5,
    "start_time": "2024-07-22T18:23:19.367Z"
   },
   {
    "duration": 19,
    "start_time": "2024-07-22T18:23:19.375Z"
   },
   {
    "duration": 8,
    "start_time": "2024-07-22T18:23:19.432Z"
   },
   {
    "duration": 30,
    "start_time": "2024-07-22T18:23:19.443Z"
   },
   {
    "duration": 961,
    "start_time": "2024-07-22T18:23:19.479Z"
   },
   {
    "duration": 191,
    "start_time": "2024-07-22T18:23:20.443Z"
   },
   {
    "duration": 631,
    "start_time": "2024-07-22T18:23:20.637Z"
   },
   {
    "duration": 0,
    "start_time": "2024-07-22T18:23:21.271Z"
   },
   {
    "duration": 0,
    "start_time": "2024-07-22T18:23:21.274Z"
   },
   {
    "duration": 0,
    "start_time": "2024-07-22T18:23:21.277Z"
   },
   {
    "duration": 0,
    "start_time": "2024-07-22T18:23:21.279Z"
   },
   {
    "duration": 0,
    "start_time": "2024-07-22T18:23:21.282Z"
   },
   {
    "duration": 0,
    "start_time": "2024-07-22T18:23:21.284Z"
   },
   {
    "duration": 0,
    "start_time": "2024-07-22T18:23:21.286Z"
   },
   {
    "duration": 0,
    "start_time": "2024-07-22T18:23:21.288Z"
   },
   {
    "duration": 0,
    "start_time": "2024-07-22T18:23:21.290Z"
   },
   {
    "duration": 0,
    "start_time": "2024-07-22T18:23:21.291Z"
   },
   {
    "duration": 30,
    "start_time": "2024-07-22T18:23:55.405Z"
   },
   {
    "duration": 1546,
    "start_time": "2024-07-22T18:24:04.887Z"
   },
   {
    "duration": 24,
    "start_time": "2024-07-22T18:24:06.436Z"
   },
   {
    "duration": 7,
    "start_time": "2024-07-22T18:24:06.463Z"
   },
   {
    "duration": 4,
    "start_time": "2024-07-22T18:24:06.473Z"
   },
   {
    "duration": 53,
    "start_time": "2024-07-22T18:24:06.482Z"
   },
   {
    "duration": 5,
    "start_time": "2024-07-22T18:24:06.538Z"
   },
   {
    "duration": 25,
    "start_time": "2024-07-22T18:24:06.547Z"
   },
   {
    "duration": 10,
    "start_time": "2024-07-22T18:24:06.574Z"
   },
   {
    "duration": 75,
    "start_time": "2024-07-22T18:24:06.587Z"
   },
   {
    "duration": 5,
    "start_time": "2024-07-22T18:24:06.665Z"
   },
   {
    "duration": 17,
    "start_time": "2024-07-22T18:24:06.673Z"
   },
   {
    "duration": 41,
    "start_time": "2024-07-22T18:24:06.693Z"
   },
   {
    "duration": 33,
    "start_time": "2024-07-22T18:24:06.737Z"
   },
   {
    "duration": 973,
    "start_time": "2024-07-22T18:24:06.776Z"
   },
   {
    "duration": 201,
    "start_time": "2024-07-22T18:24:07.752Z"
   },
   {
    "duration": 1115,
    "start_time": "2024-07-22T18:24:07.957Z"
   },
   {
    "duration": 0,
    "start_time": "2024-07-22T18:24:09.075Z"
   },
   {
    "duration": 0,
    "start_time": "2024-07-22T18:24:09.076Z"
   },
   {
    "duration": 0,
    "start_time": "2024-07-22T18:24:09.081Z"
   },
   {
    "duration": 0,
    "start_time": "2024-07-22T18:24:09.083Z"
   },
   {
    "duration": 0,
    "start_time": "2024-07-22T18:24:09.086Z"
   },
   {
    "duration": 0,
    "start_time": "2024-07-22T18:24:09.089Z"
   },
   {
    "duration": 0,
    "start_time": "2024-07-22T18:24:09.093Z"
   },
   {
    "duration": 0,
    "start_time": "2024-07-22T18:24:09.095Z"
   },
   {
    "duration": 0,
    "start_time": "2024-07-22T18:24:09.097Z"
   },
   {
    "duration": 0,
    "start_time": "2024-07-22T18:24:09.133Z"
   },
   {
    "duration": 91,
    "start_time": "2024-07-22T18:25:50.912Z"
   },
   {
    "duration": 1651,
    "start_time": "2024-07-22T18:26:05.246Z"
   },
   {
    "duration": 34,
    "start_time": "2024-07-22T18:26:06.901Z"
   },
   {
    "duration": 7,
    "start_time": "2024-07-22T18:26:06.939Z"
   },
   {
    "duration": 4,
    "start_time": "2024-07-22T18:26:06.952Z"
   },
   {
    "duration": 17,
    "start_time": "2024-07-22T18:26:06.959Z"
   },
   {
    "duration": 7,
    "start_time": "2024-07-22T18:26:06.979Z"
   },
   {
    "duration": 23,
    "start_time": "2024-07-22T18:26:07.032Z"
   },
   {
    "duration": 14,
    "start_time": "2024-07-22T18:26:07.058Z"
   },
   {
    "duration": 75,
    "start_time": "2024-07-22T18:26:07.075Z"
   },
   {
    "duration": 6,
    "start_time": "2024-07-22T18:26:07.159Z"
   },
   {
    "duration": 24,
    "start_time": "2024-07-22T18:26:07.170Z"
   },
   {
    "duration": 36,
    "start_time": "2024-07-22T18:26:07.198Z"
   },
   {
    "duration": 42,
    "start_time": "2024-07-22T18:26:07.238Z"
   },
   {
    "duration": 1067,
    "start_time": "2024-07-22T18:26:07.283Z"
   },
   {
    "duration": 194,
    "start_time": "2024-07-22T18:26:08.353Z"
   },
   {
    "duration": 105,
    "start_time": "2024-07-22T18:26:08.550Z"
   },
   {
    "duration": 10,
    "start_time": "2024-07-22T18:26:08.658Z"
   },
   {
    "duration": 69,
    "start_time": "2024-07-22T18:26:08.671Z"
   },
   {
    "duration": 1712,
    "start_time": "2024-07-22T18:26:08.744Z"
   },
   {
    "duration": 54,
    "start_time": "2024-07-22T18:26:10.459Z"
   },
   {
    "duration": 301341,
    "start_time": "2024-07-22T18:26:10.532Z"
   },
   {
    "duration": 7,
    "start_time": "2024-07-22T18:31:11.876Z"
   },
   {
    "duration": 1490,
    "start_time": "2024-07-22T18:31:11.886Z"
   },
   {
    "duration": 4264,
    "start_time": "2024-07-22T18:31:13.379Z"
   },
   {
    "duration": 319,
    "start_time": "2024-07-22T18:31:17.646Z"
   },
   {
    "duration": 502,
    "start_time": "2024-07-22T18:31:17.969Z"
   },
   {
    "duration": 3558,
    "start_time": "2024-07-22T18:34:16.691Z"
   },
   {
    "duration": 17,
    "start_time": "2024-07-22T18:56:37.058Z"
   },
   {
    "duration": 108,
    "start_time": "2024-07-22T18:56:57.110Z"
   },
   {
    "duration": 1571,
    "start_time": "2024-07-22T18:57:04.357Z"
   },
   {
    "duration": 24,
    "start_time": "2024-07-22T18:57:05.931Z"
   },
   {
    "duration": 7,
    "start_time": "2024-07-22T18:57:05.957Z"
   },
   {
    "duration": 4,
    "start_time": "2024-07-22T18:57:05.967Z"
   },
   {
    "duration": 60,
    "start_time": "2024-07-22T18:57:05.977Z"
   },
   {
    "duration": 6,
    "start_time": "2024-07-22T18:57:06.040Z"
   },
   {
    "duration": 24,
    "start_time": "2024-07-22T18:57:06.049Z"
   },
   {
    "duration": 10,
    "start_time": "2024-07-22T18:57:06.076Z"
   },
   {
    "duration": 72,
    "start_time": "2024-07-22T18:57:06.089Z"
   },
   {
    "duration": 5,
    "start_time": "2024-07-22T18:57:06.164Z"
   },
   {
    "duration": 18,
    "start_time": "2024-07-22T18:57:06.173Z"
   },
   {
    "duration": 41,
    "start_time": "2024-07-22T18:57:06.194Z"
   },
   {
    "duration": 33,
    "start_time": "2024-07-22T18:57:06.238Z"
   },
   {
    "duration": 975,
    "start_time": "2024-07-22T18:57:06.276Z"
   },
   {
    "duration": 197,
    "start_time": "2024-07-22T18:57:07.254Z"
   },
   {
    "duration": 103,
    "start_time": "2024-07-22T18:57:07.454Z"
   },
   {
    "duration": 11,
    "start_time": "2024-07-22T18:57:07.560Z"
   },
   {
    "duration": 70,
    "start_time": "2024-07-22T18:57:07.573Z"
   },
   {
    "duration": 1687,
    "start_time": "2024-07-22T18:57:07.646Z"
   },
   {
    "duration": 54,
    "start_time": "2024-07-22T18:57:09.337Z"
   },
   {
    "duration": 301241,
    "start_time": "2024-07-22T18:57:09.394Z"
   },
   {
    "duration": 6,
    "start_time": "2024-07-22T19:02:10.638Z"
   },
   {
    "duration": 1497,
    "start_time": "2024-07-22T19:02:10.647Z"
   },
   {
    "duration": 4187,
    "start_time": "2024-07-22T19:02:12.147Z"
   },
   {
    "duration": 324,
    "start_time": "2024-07-22T19:02:16.337Z"
   },
   {
    "duration": 569,
    "start_time": "2024-07-22T19:02:16.665Z"
   },
   {
    "duration": 4,
    "start_time": "2024-07-22T19:09:02.078Z"
   },
   {
    "duration": 34519,
    "start_time": "2024-07-22T19:09:02.086Z"
   },
   {
    "duration": 16713,
    "start_time": "2024-07-22T19:13:33.238Z"
   },
   {
    "duration": 13497,
    "start_time": "2024-07-22T19:14:39.936Z"
   },
   {
    "duration": 13470,
    "start_time": "2024-07-22T19:15:05.820Z"
   },
   {
    "duration": 11386,
    "start_time": "2024-07-22T19:15:26.219Z"
   },
   {
    "duration": 13575,
    "start_time": "2024-07-22T19:15:46.086Z"
   },
   {
    "duration": 33509,
    "start_time": "2024-07-22T19:16:06.734Z"
   },
   {
    "duration": 336,
    "start_time": "2024-07-22T19:18:55.139Z"
   },
   {
    "duration": 16875,
    "start_time": "2024-07-22T19:19:56.428Z"
   },
   {
    "duration": 16835,
    "start_time": "2024-07-22T19:20:39.826Z"
   },
   {
    "duration": 23513,
    "start_time": "2024-07-22T19:21:26.225Z"
   },
   {
    "duration": 24706,
    "start_time": "2024-07-22T19:21:57.102Z"
   },
   {
    "duration": 33737,
    "start_time": "2024-07-22T19:25:30.784Z"
   },
   {
    "duration": 9785,
    "start_time": "2024-07-22T19:30:38.687Z"
   },
   {
    "duration": 8632,
    "start_time": "2024-07-22T19:31:06.046Z"
   },
   {
    "duration": 8616,
    "start_time": "2024-07-22T19:34:47.807Z"
   },
   {
    "duration": 7,
    "start_time": "2024-07-22T19:40:33.181Z"
   },
   {
    "duration": 341,
    "start_time": "2024-08-03T21:10:14.695Z"
   },
   {
    "duration": 5297,
    "start_time": "2024-08-03T21:10:31.320Z"
   },
   {
    "duration": 25,
    "start_time": "2024-08-03T21:10:36.620Z"
   }
  ],
  "kernelspec": {
   "display_name": "Python 3 (ipykernel)",
   "language": "python",
   "name": "python3"
  },
  "language_info": {
   "codemirror_mode": {
    "name": "ipython",
    "version": 3
   },
   "file_extension": ".py",
   "mimetype": "text/x-python",
   "name": "python",
   "nbconvert_exporter": "python",
   "pygments_lexer": "ipython3",
   "version": "3.9.19"
  },
  "toc": {
   "base_numbering": 1,
   "nav_menu": {},
   "number_sections": true,
   "sideBar": true,
   "skip_h1_title": true,
   "title_cell": "Table of Contents",
   "title_sidebar": "Contents",
   "toc_cell": false,
   "toc_position": {},
   "toc_section_display": true,
   "toc_window_display": false
  }
 },
 "nbformat": 4,
 "nbformat_minor": 2
}
